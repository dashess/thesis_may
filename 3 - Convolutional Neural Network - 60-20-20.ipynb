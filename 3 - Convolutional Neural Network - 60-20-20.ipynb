{
 "cells": [
  {
   "cell_type": "code",
   "execution_count": 1,
   "metadata": {},
   "outputs": [
    {
     "name": "stderr",
     "output_type": "stream",
     "text": [
      "Using TensorFlow backend.\n",
      "C:\\Users\\Guus\\Anaconda3\\envs\\PythonGPU\\lib\\site-packages\\tensorflow\\python\\framework\\dtypes.py:516: FutureWarning: Passing (type, 1) or '1type' as a synonym of type is deprecated; in a future version of numpy, it will be understood as (type, (1,)) / '(1,)type'.\n",
      "  _np_qint8 = np.dtype([(\"qint8\", np.int8, 1)])\n",
      "C:\\Users\\Guus\\Anaconda3\\envs\\PythonGPU\\lib\\site-packages\\tensorflow\\python\\framework\\dtypes.py:517: FutureWarning: Passing (type, 1) or '1type' as a synonym of type is deprecated; in a future version of numpy, it will be understood as (type, (1,)) / '(1,)type'.\n",
      "  _np_quint8 = np.dtype([(\"quint8\", np.uint8, 1)])\n",
      "C:\\Users\\Guus\\Anaconda3\\envs\\PythonGPU\\lib\\site-packages\\tensorflow\\python\\framework\\dtypes.py:518: FutureWarning: Passing (type, 1) or '1type' as a synonym of type is deprecated; in a future version of numpy, it will be understood as (type, (1,)) / '(1,)type'.\n",
      "  _np_qint16 = np.dtype([(\"qint16\", np.int16, 1)])\n",
      "C:\\Users\\Guus\\Anaconda3\\envs\\PythonGPU\\lib\\site-packages\\tensorflow\\python\\framework\\dtypes.py:519: FutureWarning: Passing (type, 1) or '1type' as a synonym of type is deprecated; in a future version of numpy, it will be understood as (type, (1,)) / '(1,)type'.\n",
      "  _np_quint16 = np.dtype([(\"quint16\", np.uint16, 1)])\n",
      "C:\\Users\\Guus\\Anaconda3\\envs\\PythonGPU\\lib\\site-packages\\tensorflow\\python\\framework\\dtypes.py:520: FutureWarning: Passing (type, 1) or '1type' as a synonym of type is deprecated; in a future version of numpy, it will be understood as (type, (1,)) / '(1,)type'.\n",
      "  _np_qint32 = np.dtype([(\"qint32\", np.int32, 1)])\n",
      "C:\\Users\\Guus\\Anaconda3\\envs\\PythonGPU\\lib\\site-packages\\tensorflow\\python\\framework\\dtypes.py:525: FutureWarning: Passing (type, 1) or '1type' as a synonym of type is deprecated; in a future version of numpy, it will be understood as (type, (1,)) / '(1,)type'.\n",
      "  np_resource = np.dtype([(\"resource\", np.ubyte, 1)])\n",
      "C:\\Users\\Guus\\Anaconda3\\envs\\PythonGPU\\lib\\site-packages\\tensorboard\\compat\\tensorflow_stub\\dtypes.py:541: FutureWarning: Passing (type, 1) or '1type' as a synonym of type is deprecated; in a future version of numpy, it will be understood as (type, (1,)) / '(1,)type'.\n",
      "  _np_qint8 = np.dtype([(\"qint8\", np.int8, 1)])\n",
      "C:\\Users\\Guus\\Anaconda3\\envs\\PythonGPU\\lib\\site-packages\\tensorboard\\compat\\tensorflow_stub\\dtypes.py:542: FutureWarning: Passing (type, 1) or '1type' as a synonym of type is deprecated; in a future version of numpy, it will be understood as (type, (1,)) / '(1,)type'.\n",
      "  _np_quint8 = np.dtype([(\"quint8\", np.uint8, 1)])\n",
      "C:\\Users\\Guus\\Anaconda3\\envs\\PythonGPU\\lib\\site-packages\\tensorboard\\compat\\tensorflow_stub\\dtypes.py:543: FutureWarning: Passing (type, 1) or '1type' as a synonym of type is deprecated; in a future version of numpy, it will be understood as (type, (1,)) / '(1,)type'.\n",
      "  _np_qint16 = np.dtype([(\"qint16\", np.int16, 1)])\n",
      "C:\\Users\\Guus\\Anaconda3\\envs\\PythonGPU\\lib\\site-packages\\tensorboard\\compat\\tensorflow_stub\\dtypes.py:544: FutureWarning: Passing (type, 1) or '1type' as a synonym of type is deprecated; in a future version of numpy, it will be understood as (type, (1,)) / '(1,)type'.\n",
      "  _np_quint16 = np.dtype([(\"quint16\", np.uint16, 1)])\n",
      "C:\\Users\\Guus\\Anaconda3\\envs\\PythonGPU\\lib\\site-packages\\tensorboard\\compat\\tensorflow_stub\\dtypes.py:545: FutureWarning: Passing (type, 1) or '1type' as a synonym of type is deprecated; in a future version of numpy, it will be understood as (type, (1,)) / '(1,)type'.\n",
      "  _np_qint32 = np.dtype([(\"qint32\", np.int32, 1)])\n",
      "C:\\Users\\Guus\\Anaconda3\\envs\\PythonGPU\\lib\\site-packages\\tensorboard\\compat\\tensorflow_stub\\dtypes.py:550: FutureWarning: Passing (type, 1) or '1type' as a synonym of type is deprecated; in a future version of numpy, it will be understood as (type, (1,)) / '(1,)type'.\n",
      "  np_resource = np.dtype([(\"resource\", np.ubyte, 1)])\n"
     ]
    }
   ],
   "source": [
    "import pandas as pd\n",
    "import numpy as np\n",
    "from matplotlib import pyplot as plt\n",
    "import os\n",
    "import pickle\n",
    "import keras.utils as utils\n",
    "from sklearn import metrics\n",
    "%matplotlib inline "
   ]
  },
  {
   "cell_type": "code",
   "execution_count": 2,
   "metadata": {},
   "outputs": [],
   "source": [
    "# cnn model\n",
    "from numpy import mean\n",
    "from numpy import std\n",
    "from numpy import dstack\n",
    "from pandas import read_csv\n",
    "from matplotlib import pyplot\n",
    "from keras.models import Sequential\n",
    "from keras.layers import Dense\n",
    "from keras.layers import Flatten\n",
    "from keras.layers import Dropout\n",
    "from keras.layers.convolutional import Conv1D\n",
    "from keras.layers.convolutional import MaxPooling1D\n",
    "from keras.utils import to_categorical"
   ]
  },
  {
   "cell_type": "markdown",
   "metadata": {},
   "source": [
    "## Loading Data"
   ]
  },
  {
   "cell_type": "code",
   "execution_count": 3,
   "metadata": {},
   "outputs": [],
   "source": [
    "filedir = \".\\\\data\\\\\"\n",
    "activities = ['cycling', 'driving', 'jogging', 'sleeping', 'walking']\n",
    "epoch_length = 360"
   ]
  },
  {
   "cell_type": "code",
   "execution_count": 4,
   "metadata": {},
   "outputs": [],
   "source": [
    "pickle_in = open(filedir+\"data\\\\data.pickle\",\"rb\")\n",
    "data_dict = pickle.load(pickle_in)\n",
    "pickle_in.close()"
   ]
  },
  {
   "cell_type": "code",
   "execution_count": 5,
   "metadata": {},
   "outputs": [],
   "source": [
    "X = data_dict[\"cnn_array\"]"
   ]
  },
  {
   "cell_type": "code",
   "execution_count": 6,
   "metadata": {},
   "outputs": [],
   "source": [
    "y = []\n",
    "for item in data_dict[\"label\"]:\n",
    "    #value = 0\n",
    "    if item == activities[0]:\n",
    "        y.append(0)\n",
    "    elif item == activities[1]:\n",
    "        y.append(1)\n",
    "    elif item == activities[2]:\n",
    "        y.append(2)\n",
    "    elif item == activities[3]:\n",
    "        y.append(3)\n",
    "    elif item == activities[4]:\n",
    "        y.append(4)"
   ]
  },
  {
   "cell_type": "markdown",
   "metadata": {},
   "source": [
    "## Train / Test Split 60/20/20"
   ]
  },
  {
   "cell_type": "code",
   "execution_count": 7,
   "metadata": {},
   "outputs": [],
   "source": [
    "test_size = int(int(X.shape[0] * 0.2) / len(set(y))) * len(set(y))"
   ]
  },
  {
   "cell_type": "code",
   "execution_count": 8,
   "metadata": {},
   "outputs": [],
   "source": [
    "from sklearn.model_selection import train_test_split\n",
    "X_data, X_test, y_data, y_test = train_test_split(X, y, test_size=test_size, random_state=4091988, stratify=y)"
   ]
  },
  {
   "cell_type": "code",
   "execution_count": 9,
   "metadata": {},
   "outputs": [],
   "source": [
    "X_train, X_val, y_train, y_val = train_test_split(X_data, y_data, test_size=test_size, random_state=4091988, stratify=y_data)"
   ]
  },
  {
   "cell_type": "code",
   "execution_count": 10,
   "metadata": {},
   "outputs": [],
   "source": [
    "y_train = utils.to_categorical(y_train)\n",
    "y_test = utils.to_categorical(y_test)\n",
    "y_val = utils.to_categorical(y_val)"
   ]
  },
  {
   "cell_type": "markdown",
   "metadata": {},
   "source": [
    "## Novel CNN"
   ]
  },
  {
   "cell_type": "code",
   "execution_count": 11,
   "metadata": {},
   "outputs": [],
   "source": [
    "n_timesteps, n_features, n_outputs = X_train.shape[1], X_train.shape[2], y_train.shape[1]"
   ]
  },
  {
   "cell_type": "code",
   "execution_count": 12,
   "metadata": {},
   "outputs": [],
   "source": [
    "verbose, epochs, batch_size = 1, 20, 32"
   ]
  },
  {
   "cell_type": "code",
   "execution_count": 13,
   "metadata": {},
   "outputs": [
    {
     "name": "stdout",
     "output_type": "stream",
     "text": [
      "WARNING:tensorflow:From C:\\Users\\Guus\\Anaconda3\\envs\\PythonGPU\\lib\\site-packages\\keras\\backend\\tensorflow_backend.py:517: The name tf.placeholder is deprecated. Please use tf.compat.v1.placeholder instead.\n",
      "\n",
      "WARNING:tensorflow:From C:\\Users\\Guus\\Anaconda3\\envs\\PythonGPU\\lib\\site-packages\\keras\\backend\\tensorflow_backend.py:4138: The name tf.random_uniform is deprecated. Please use tf.random.uniform instead.\n",
      "\n",
      "WARNING:tensorflow:From C:\\Users\\Guus\\Anaconda3\\envs\\PythonGPU\\lib\\site-packages\\keras\\backend\\tensorflow_backend.py:133: The name tf.placeholder_with_default is deprecated. Please use tf.compat.v1.placeholder_with_default instead.\n",
      "\n",
      "WARNING:tensorflow:From C:\\Users\\Guus\\Anaconda3\\envs\\PythonGPU\\lib\\site-packages\\keras\\backend\\tensorflow_backend.py:3445: calling dropout (from tensorflow.python.ops.nn_ops) with keep_prob is deprecated and will be removed in a future version.\n",
      "Instructions for updating:\n",
      "Please use `rate` instead of `keep_prob`. Rate should be set to `rate = 1 - keep_prob`.\n",
      "WARNING:tensorflow:From C:\\Users\\Guus\\Anaconda3\\envs\\PythonGPU\\lib\\site-packages\\keras\\backend\\tensorflow_backend.py:3976: The name tf.nn.max_pool is deprecated. Please use tf.nn.max_pool2d instead.\n",
      "\n",
      "WARNING:tensorflow:From C:\\Users\\Guus\\Anaconda3\\envs\\PythonGPU\\lib\\site-packages\\keras\\optimizers.py:790: The name tf.train.Optimizer is deprecated. Please use tf.compat.v1.train.Optimizer instead.\n",
      "\n",
      "WARNING:tensorflow:From C:\\Users\\Guus\\Anaconda3\\envs\\PythonGPU\\lib\\site-packages\\keras\\backend\\tensorflow_backend.py:3295: The name tf.log is deprecated. Please use tf.math.log instead.\n",
      "\n"
     ]
    }
   ],
   "source": [
    "## Model is from https://machinelearningmastery.com/cnn-models-for-human-activity-recognition-time-series-classification/\n",
    "model = Sequential()\n",
    "model.add(Conv1D(filters=64, kernel_size=3, activation='relu', input_shape=(n_timesteps,n_features)))\n",
    "model.add(Conv1D(filters=64, kernel_size=3, activation='relu'))\n",
    "model.add(Dropout(0.5))\n",
    "model.add(MaxPooling1D(pool_size=2))\n",
    "model.add(Flatten())\n",
    "model.add(Dense(100, activation='relu'))\n",
    "model.add(Dense(n_outputs, activation='softmax'))\n",
    "model.compile(loss='categorical_crossentropy', optimizer='adam', metrics=['accuracy'])"
   ]
  },
  {
   "cell_type": "code",
   "execution_count": 14,
   "metadata": {},
   "outputs": [
    {
     "name": "stdout",
     "output_type": "stream",
     "text": [
      "WARNING:tensorflow:From C:\\Users\\Guus\\Anaconda3\\envs\\PythonGPU\\lib\\site-packages\\tensorflow\\python\\ops\\math_grad.py:1250: add_dispatch_support.<locals>.wrapper (from tensorflow.python.ops.array_ops) is deprecated and will be removed in a future version.\n",
      "Instructions for updating:\n",
      "Use tf.where in 2.0, which has the same broadcast rule as np.where\n",
      "WARNING:tensorflow:From C:\\Users\\Guus\\Anaconda3\\envs\\PythonGPU\\lib\\site-packages\\keras\\backend\\tensorflow_backend.py:986: The name tf.assign_add is deprecated. Please use tf.compat.v1.assign_add instead.\n",
      "\n",
      "Train on 4890 samples, validate on 1625 samples\n",
      "Epoch 1/20\n",
      "4890/4890 [==============================] - 3s 541us/step - loss: 0.4950 - acc: 0.8321 - val_loss: 0.3500 - val_acc: 0.8954\n",
      "Epoch 2/20\n",
      "4890/4890 [==============================] - 1s 107us/step - loss: 0.3044 - acc: 0.9031 - val_loss: 0.3493 - val_acc: 0.9034\n",
      "Epoch 3/20\n",
      "4890/4890 [==============================] - 1s 106us/step - loss: 0.2618 - acc: 0.9112 - val_loss: 0.3148 - val_acc: 0.9071\n",
      "Epoch 4/20\n",
      "4890/4890 [==============================] - 1s 107us/step - loss: 0.2404 - acc: 0.9211 - val_loss: 0.2894 - val_acc: 0.9114\n",
      "Epoch 5/20\n",
      "4890/4890 [==============================] - 1s 107us/step - loss: 0.2178 - acc: 0.9274 - val_loss: 0.2955 - val_acc: 0.8942\n",
      "Epoch 6/20\n",
      "4890/4890 [==============================] - 1s 107us/step - loss: 0.2038 - acc: 0.9309 - val_loss: 0.2963 - val_acc: 0.9157\n",
      "Epoch 7/20\n",
      "4890/4890 [==============================] - 1s 107us/step - loss: 0.1795 - acc: 0.9384 - val_loss: 0.2807 - val_acc: 0.9052\n",
      "Epoch 8/20\n",
      "4890/4890 [==============================] - 1s 106us/step - loss: 0.1682 - acc: 0.9456 - val_loss: 0.2983 - val_acc: 0.9009\n",
      "Epoch 9/20\n",
      "4890/4890 [==============================] - 1s 115us/step - loss: 0.1645 - acc: 0.9442 - val_loss: 0.2863 - val_acc: 0.9071\n",
      "Epoch 10/20\n",
      "4890/4890 [==============================] - 1s 108us/step - loss: 0.1401 - acc: 0.9526 - val_loss: 0.2856 - val_acc: 0.9034\n",
      "Epoch 11/20\n",
      "4890/4890 [==============================] - 1s 109us/step - loss: 0.1302 - acc: 0.9548 - val_loss: 0.2905 - val_acc: 0.8917\n",
      "Epoch 12/20\n",
      "4890/4890 [==============================] - 1s 109us/step - loss: 0.1196 - acc: 0.9589 - val_loss: 0.2809 - val_acc: 0.9138\n",
      "Epoch 13/20\n",
      "4890/4890 [==============================] - 1s 108us/step - loss: 0.1194 - acc: 0.9566 - val_loss: 0.2557 - val_acc: 0.9182\n",
      "Epoch 14/20\n",
      "4890/4890 [==============================] - 1s 108us/step - loss: 0.1041 - acc: 0.9624 - val_loss: 0.2916 - val_acc: 0.9218\n",
      "Epoch 15/20\n",
      "4890/4890 [==============================] - 1s 108us/step - loss: 0.1080 - acc: 0.9640 - val_loss: 0.2820 - val_acc: 0.9071\n",
      "Epoch 16/20\n",
      "4890/4890 [==============================] - 1s 108us/step - loss: 0.0974 - acc: 0.9681 - val_loss: 0.2857 - val_acc: 0.9151\n",
      "Epoch 17/20\n",
      "4890/4890 [==============================] - 1s 109us/step - loss: 0.0930 - acc: 0.9679 - val_loss: 0.2677 - val_acc: 0.9225\n",
      "Epoch 18/20\n",
      "4890/4890 [==============================] - 1s 110us/step - loss: 0.0914 - acc: 0.9703 - val_loss: 0.2871 - val_acc: 0.9231\n",
      "Epoch 19/20\n",
      "4890/4890 [==============================] - 1s 109us/step - loss: 0.0851 - acc: 0.9689 - val_loss: 0.2865 - val_acc: 0.9114\n",
      "Epoch 20/20\n",
      "4890/4890 [==============================] - 1s 109us/step - loss: 0.0913 - acc: 0.9695 - val_loss: 0.2711 - val_acc: 0.9274\n"
     ]
    },
    {
     "data": {
      "text/plain": [
       "<keras.callbacks.History at 0x252a3ad8e48>"
      ]
     },
     "execution_count": 14,
     "metadata": {},
     "output_type": "execute_result"
    }
   ],
   "source": [
    "model.fit(X_train, y_train, epochs = epochs, \n",
    "          validation_data = (X_val, y_val), \n",
    "          batch_size = batch_size, verbose=verbose)"
   ]
  },
  {
   "cell_type": "code",
   "execution_count": 15,
   "metadata": {},
   "outputs": [
    {
     "data": {
      "text/plain": [
       "0.9101538457503685"
      ]
     },
     "execution_count": 15,
     "metadata": {},
     "output_type": "execute_result"
    }
   ],
   "source": [
    "_, accuracy = model.evaluate(X_test, y_test, batch_size=batch_size, verbose=0)\n",
    "accuracy"
   ]
  },
  {
   "cell_type": "code",
   "execution_count": 16,
   "metadata": {},
   "outputs": [],
   "source": [
    "results = open(\"accuracy_base60.txt\",\"w\")\n",
    "results.write(str(accuracy))\n",
    "results.close()"
   ]
  },
  {
   "cell_type": "code",
   "execution_count": 17,
   "metadata": {},
   "outputs": [],
   "source": [
    "y_pred = model.predict_classes(X_test)"
   ]
  },
  {
   "cell_type": "code",
   "execution_count": 18,
   "metadata": {},
   "outputs": [
    {
     "name": "stdout",
     "output_type": "stream",
     "text": [
      "              precision    recall  f1-score   support\n",
      "\n",
      "     cycling     0.9183    0.8646    0.8906       325\n",
      "     driving     0.8011    0.8800    0.8387       325\n",
      "     jogging     0.9877    0.9908    0.9892       325\n",
      "    sleeping     0.9742    0.9292    0.9512       325\n",
      "     walking     0.8834    0.8862    0.8848       325\n",
      "\n",
      "    accuracy                         0.9102      1625\n",
      "   macro avg     0.9130    0.9102    0.9109      1625\n",
      "weighted avg     0.9130    0.9102    0.9109      1625\n",
      "\n"
     ]
    }
   ],
   "source": [
    "print(metrics.classification_report(np.argmax(y_test,axis=1), y_pred, target_names = activities, digits = 4))"
   ]
  },
  {
   "cell_type": "code",
   "execution_count": 19,
   "metadata": {},
   "outputs": [
    {
     "name": "stdout",
     "output_type": "stream",
     "text": [
      "Confusion matrix:\n",
      "[[281  28   1   3  12]\n",
      " [ 17 286   1   2  19]\n",
      " [  1   0 322   0   2]\n",
      " [  4  14   0 302   5]\n",
      " [  3  29   2   3 288]]\n"
     ]
    }
   ],
   "source": [
    "print(\"Confusion matrix:\\n%s\" % metrics.confusion_matrix(np.argmax(y_test,axis=1), y_pred))"
   ]
  },
  {
   "cell_type": "markdown",
   "metadata": {},
   "source": [
    "---"
   ]
  },
  {
   "cell_type": "markdown",
   "metadata": {},
   "source": [
    "## Novel + Tuning Parameters"
   ]
  },
  {
   "cell_type": "code",
   "execution_count": 20,
   "metadata": {},
   "outputs": [],
   "source": [
    "from tensorflow.keras import backend as K\n",
    "from tensorflow.keras.callbacks import EarlyStopping\n",
    "from tensorflow.keras.callbacks import ModelCheckpoint"
   ]
  },
  {
   "cell_type": "code",
   "execution_count": 21,
   "metadata": {},
   "outputs": [],
   "source": [
    "from keras import backend as K\n",
    "from keras.callbacks import EarlyStopping\n",
    "from keras.callbacks import ModelCheckpoint\n",
    "from tensorflow.keras.models import load_model"
   ]
  },
  {
   "cell_type": "code",
   "execution_count": 22,
   "metadata": {},
   "outputs": [],
   "source": [
    "verbose, epochs, batch_size = 1, 1000, 64"
   ]
  },
  {
   "cell_type": "code",
   "execution_count": 23,
   "metadata": {},
   "outputs": [],
   "source": [
    "## Model is from https://machinelearningmastery.com/cnn-models-for-human-activity-recognition-time-series-classification/\n",
    "model_novel = Sequential()\n",
    "model_novel.add(Conv1D(filters=64, kernel_size=3, activation='relu', input_shape=(n_timesteps,n_features)))\n",
    "model_novel.add(Conv1D(filters=64, kernel_size=3, activation='relu'))\n",
    "model_novel.add(Dropout(0.5))\n",
    "model_novel.add(MaxPooling1D(pool_size=2))\n",
    "model_novel.add(Flatten())\n",
    "model_novel.add(Dense(100, activation='relu'))\n",
    "model_novel.add(Dense(n_outputs, activation='softmax'))\n",
    "model_novel.compile(loss='categorical_crossentropy', optimizer='adam', metrics=['acc'])"
   ]
  },
  {
   "cell_type": "code",
   "execution_count": 24,
   "metadata": {},
   "outputs": [
    {
     "name": "stdout",
     "output_type": "stream",
     "text": [
      "Train on 4890 samples, validate on 1625 samples\n",
      "Epoch 1/1000\n",
      "4890/4890 [==============================] - 1s 133us/step - loss: 0.5289 - acc: 0.8223 - val_loss: 0.3922 - val_acc: 0.8775\n",
      "\n",
      "Epoch 00001: val_acc improved from -inf to 0.87754, saving model to .\\data\\data\\best_model_novel_60.h5\n",
      "Epoch 2/1000\n",
      "4890/4890 [==============================] - 0s 66us/step - loss: 0.3044 - acc: 0.9022 - val_loss: 0.3371 - val_acc: 0.8960\n",
      "\n",
      "Epoch 00002: val_acc improved from 0.87754 to 0.89600, saving model to .\\data\\data\\best_model_novel_60.h5\n",
      "Epoch 3/1000\n",
      "4890/4890 [==============================] - 0s 67us/step - loss: 0.2629 - acc: 0.9139 - val_loss: 0.3648 - val_acc: 0.8849\n",
      "\n",
      "Epoch 00003: val_acc did not improve from 0.89600\n",
      "Epoch 4/1000\n",
      "4890/4890 [==============================] - 0s 67us/step - loss: 0.2372 - acc: 0.9196 - val_loss: 0.2937 - val_acc: 0.9022\n",
      "\n",
      "Epoch 00004: val_acc improved from 0.89600 to 0.90215, saving model to .\\data\\data\\best_model_novel_60.h5\n",
      "Epoch 5/1000\n",
      "4890/4890 [==============================] - 0s 67us/step - loss: 0.2105 - acc: 0.9297 - val_loss: 0.3230 - val_acc: 0.8985\n",
      "\n",
      "Epoch 00005: val_acc did not improve from 0.90215\n",
      "Epoch 6/1000\n",
      "4890/4890 [==============================] - 0s 66us/step - loss: 0.1973 - acc: 0.9372 - val_loss: 0.3136 - val_acc: 0.9009\n",
      "\n",
      "Epoch 00006: val_acc did not improve from 0.90215\n",
      "Epoch 7/1000\n",
      "4890/4890 [==============================] - 0s 67us/step - loss: 0.1815 - acc: 0.9370 - val_loss: 0.3210 - val_acc: 0.8997\n",
      "\n",
      "Epoch 00007: val_acc did not improve from 0.90215\n",
      "Epoch 8/1000\n",
      "4890/4890 [==============================] - 0s 67us/step - loss: 0.1746 - acc: 0.9403 - val_loss: 0.2764 - val_acc: 0.9108\n",
      "\n",
      "Epoch 00008: val_acc improved from 0.90215 to 0.91077, saving model to .\\data\\data\\best_model_novel_60.h5\n",
      "Epoch 9/1000\n",
      "4890/4890 [==============================] - 0s 67us/step - loss: 0.1563 - acc: 0.9458 - val_loss: 0.2682 - val_acc: 0.9182\n",
      "\n",
      "Epoch 00009: val_acc improved from 0.91077 to 0.91815, saving model to .\\data\\data\\best_model_novel_60.h5\n",
      "Epoch 10/1000\n",
      "4890/4890 [==============================] - 0s 67us/step - loss: 0.1513 - acc: 0.9464 - val_loss: 0.2918 - val_acc: 0.9120\n",
      "\n",
      "Epoch 00010: val_acc did not improve from 0.91815\n",
      "Epoch 11/1000\n",
      "4890/4890 [==============================] - 0s 68us/step - loss: 0.1386 - acc: 0.9497 - val_loss: 0.2985 - val_acc: 0.9034\n",
      "\n",
      "Epoch 00011: val_acc did not improve from 0.91815\n",
      "Epoch 12/1000\n",
      "4890/4890 [==============================] - 0s 68us/step - loss: 0.1236 - acc: 0.9538 - val_loss: 0.3008 - val_acc: 0.9089\n",
      "\n",
      "Epoch 00012: val_acc did not improve from 0.91815\n",
      "Epoch 13/1000\n",
      "4890/4890 [==============================] - 0s 68us/step - loss: 0.1290 - acc: 0.9540 - val_loss: 0.3330 - val_acc: 0.8880\n",
      "\n",
      "Epoch 00013: val_acc did not improve from 0.91815\n",
      "Epoch 14/1000\n",
      "4890/4890 [==============================] - 0s 66us/step - loss: 0.1237 - acc: 0.9569 - val_loss: 0.2690 - val_acc: 0.9120\n",
      "\n",
      "Epoch 00014: val_acc did not improve from 0.91815\n",
      "Epoch 15/1000\n",
      "4890/4890 [==============================] - 0s 67us/step - loss: 0.0983 - acc: 0.9652 - val_loss: 0.3026 - val_acc: 0.9028\n",
      "\n",
      "Epoch 00015: val_acc did not improve from 0.91815\n",
      "Epoch 16/1000\n",
      "4890/4890 [==============================] - 0s 67us/step - loss: 0.0963 - acc: 0.9677 - val_loss: 0.3548 - val_acc: 0.9028\n",
      "\n",
      "Epoch 00016: val_acc did not improve from 0.91815\n",
      "Epoch 17/1000\n",
      "4890/4890 [==============================] - 0s 67us/step - loss: 0.0982 - acc: 0.9652 - val_loss: 0.3175 - val_acc: 0.9022\n",
      "\n",
      "Epoch 00017: val_acc did not improve from 0.91815\n",
      "Epoch 18/1000\n",
      "4890/4890 [==============================] - 0s 67us/step - loss: 0.0917 - acc: 0.9675 - val_loss: 0.4045 - val_acc: 0.8628\n",
      "\n",
      "Epoch 00018: val_acc did not improve from 0.91815\n",
      "Epoch 19/1000\n",
      "4890/4890 [==============================] - 0s 67us/step - loss: 0.0862 - acc: 0.9697 - val_loss: 0.3480 - val_acc: 0.9022\n",
      "\n",
      "Epoch 00019: val_acc did not improve from 0.91815\n",
      "Epoch 20/1000\n",
      "4890/4890 [==============================] - 0s 67us/step - loss: 0.0824 - acc: 0.9708 - val_loss: 0.2863 - val_acc: 0.9157\n",
      "\n",
      "Epoch 00020: val_acc did not improve from 0.91815\n",
      "Epoch 21/1000\n",
      "4890/4890 [==============================] - 0s 67us/step - loss: 0.0829 - acc: 0.9710 - val_loss: 0.3020 - val_acc: 0.9120\n",
      "\n",
      "Epoch 00021: val_acc did not improve from 0.91815\n",
      "Epoch 22/1000\n",
      "4890/4890 [==============================] - 0s 67us/step - loss: 0.0735 - acc: 0.9714 - val_loss: 0.3153 - val_acc: 0.9114\n",
      "\n",
      "Epoch 00022: val_acc did not improve from 0.91815\n",
      "Epoch 23/1000\n",
      "4890/4890 [==============================] - 0s 68us/step - loss: 0.0735 - acc: 0.9732 - val_loss: 0.3154 - val_acc: 0.9138\n",
      "\n",
      "Epoch 00023: val_acc did not improve from 0.91815\n",
      "Epoch 24/1000\n",
      "4890/4890 [==============================] - 0s 67us/step - loss: 0.0908 - acc: 0.9669 - val_loss: 0.3377 - val_acc: 0.9083\n",
      "\n",
      "Epoch 00024: val_acc did not improve from 0.91815\n",
      "Epoch 25/1000\n",
      "4890/4890 [==============================] - 0s 67us/step - loss: 0.0716 - acc: 0.9767 - val_loss: 0.3525 - val_acc: 0.9034\n",
      "\n",
      "Epoch 00025: val_acc did not improve from 0.91815\n",
      "Epoch 26/1000\n",
      "4890/4890 [==============================] - 0s 67us/step - loss: 0.0748 - acc: 0.9753 - val_loss: 0.3312 - val_acc: 0.9089\n",
      "\n",
      "Epoch 00026: val_acc did not improve from 0.91815\n",
      "Epoch 27/1000\n",
      "4890/4890 [==============================] - 0s 68us/step - loss: 0.0626 - acc: 0.9775 - val_loss: 0.3337 - val_acc: 0.9077\n",
      "\n",
      "Epoch 00027: val_acc did not improve from 0.91815\n",
      "Epoch 28/1000\n",
      "4890/4890 [==============================] - 0s 67us/step - loss: 0.0702 - acc: 0.9767 - val_loss: 0.3233 - val_acc: 0.9120\n",
      "\n",
      "Epoch 00028: val_acc did not improve from 0.91815\n",
      "Epoch 29/1000\n",
      "4890/4890 [==============================] - 0s 68us/step - loss: 0.0624 - acc: 0.9775 - val_loss: 0.3471 - val_acc: 0.9108\n",
      "\n",
      "Epoch 00029: val_acc did not improve from 0.91815\n",
      "Epoch 30/1000\n",
      "4890/4890 [==============================] - 0s 68us/step - loss: 0.0618 - acc: 0.9783 - val_loss: 0.3477 - val_acc: 0.9145\n",
      "\n",
      "Epoch 00030: val_acc did not improve from 0.91815\n",
      "Epoch 31/1000\n",
      "4890/4890 [==============================] - 0s 68us/step - loss: 0.0723 - acc: 0.9751 - val_loss: 0.3594 - val_acc: 0.9077\n",
      "\n",
      "Epoch 00031: val_acc did not improve from 0.91815\n",
      "Epoch 32/1000\n",
      "4890/4890 [==============================] - 0s 67us/step - loss: 0.0736 - acc: 0.9765 - val_loss: 0.3295 - val_acc: 0.9194\n",
      "\n",
      "Epoch 00032: val_acc improved from 0.91815 to 0.91938, saving model to .\\data\\data\\best_model_novel_60.h5\n",
      "Epoch 33/1000\n",
      "4890/4890 [==============================] - 0s 68us/step - loss: 0.0499 - acc: 0.9830 - val_loss: 0.3621 - val_acc: 0.9095\n",
      "\n",
      "Epoch 00033: val_acc did not improve from 0.91938\n",
      "Epoch 34/1000\n",
      "4890/4890 [==============================] - 0s 67us/step - loss: 0.0607 - acc: 0.9804 - val_loss: 0.3797 - val_acc: 0.9089\n",
      "\n",
      "Epoch 00034: val_acc did not improve from 0.91938\n",
      "Epoch 35/1000\n",
      "4890/4890 [==============================] - 0s 68us/step - loss: 0.0610 - acc: 0.9779 - val_loss: 0.3342 - val_acc: 0.9126\n",
      "\n",
      "Epoch 00035: val_acc did not improve from 0.91938\n",
      "Epoch 36/1000\n",
      "4890/4890 [==============================] - 0s 67us/step - loss: 0.0489 - acc: 0.9847 - val_loss: 0.3777 - val_acc: 0.9095\n",
      "\n",
      "Epoch 00036: val_acc did not improve from 0.91938\n",
      "Epoch 37/1000\n",
      "4890/4890 [==============================] - 0s 67us/step - loss: 0.0440 - acc: 0.9834 - val_loss: 0.3745 - val_acc: 0.9169\n",
      "\n",
      "Epoch 00037: val_acc did not improve from 0.91938\n",
      "Epoch 38/1000\n",
      "4890/4890 [==============================] - 0s 67us/step - loss: 0.0456 - acc: 0.9836 - val_loss: 0.3822 - val_acc: 0.9083\n",
      "\n",
      "Epoch 00038: val_acc did not improve from 0.91938\n",
      "Epoch 39/1000\n",
      "4890/4890 [==============================] - 0s 67us/step - loss: 0.0402 - acc: 0.9867 - val_loss: 0.3769 - val_acc: 0.9163\n",
      "\n",
      "Epoch 00039: val_acc did not improve from 0.91938\n",
      "Epoch 40/1000\n",
      "4890/4890 [==============================] - 0s 67us/step - loss: 0.0492 - acc: 0.9840 - val_loss: 0.3566 - val_acc: 0.9169\n",
      "\n",
      "Epoch 00040: val_acc did not improve from 0.91938\n",
      "Epoch 41/1000\n",
      "4890/4890 [==============================] - 0s 68us/step - loss: 0.0451 - acc: 0.9849 - val_loss: 0.3568 - val_acc: 0.9151\n",
      "\n",
      "Epoch 00041: val_acc did not improve from 0.91938\n",
      "Epoch 42/1000\n"
     ]
    },
    {
     "name": "stdout",
     "output_type": "stream",
     "text": [
      "4890/4890 [==============================] - 0s 67us/step - loss: 0.0480 - acc: 0.9838 - val_loss: 0.3998 - val_acc: 0.9046\n",
      "\n",
      "Epoch 00042: val_acc did not improve from 0.91938\n",
      "Epoch 43/1000\n",
      "4890/4890 [==============================] - 0s 68us/step - loss: 0.0392 - acc: 0.9863 - val_loss: 0.3736 - val_acc: 0.9108\n",
      "\n",
      "Epoch 00043: val_acc did not improve from 0.91938\n",
      "Epoch 44/1000\n",
      "4890/4890 [==============================] - 0s 68us/step - loss: 0.0468 - acc: 0.9857 - val_loss: 0.3961 - val_acc: 0.9126\n",
      "\n",
      "Epoch 00044: val_acc did not improve from 0.91938\n",
      "Epoch 45/1000\n",
      "4890/4890 [==============================] - 0s 66us/step - loss: 0.0553 - acc: 0.9826 - val_loss: 0.3589 - val_acc: 0.9188\n",
      "\n",
      "Epoch 00045: val_acc did not improve from 0.91938\n",
      "Epoch 46/1000\n",
      "4890/4890 [==============================] - 0s 66us/step - loss: 0.0407 - acc: 0.9863 - val_loss: 0.3804 - val_acc: 0.9071\n",
      "\n",
      "Epoch 00046: val_acc did not improve from 0.91938\n",
      "Epoch 47/1000\n",
      "4890/4890 [==============================] - 0s 67us/step - loss: 0.0566 - acc: 0.9816 - val_loss: 0.3700 - val_acc: 0.9077\n",
      "\n",
      "Epoch 00047: val_acc did not improve from 0.91938\n",
      "Epoch 48/1000\n",
      "4890/4890 [==============================] - 0s 68us/step - loss: 0.0465 - acc: 0.9832 - val_loss: 0.4238 - val_acc: 0.9157\n",
      "\n",
      "Epoch 00048: val_acc did not improve from 0.91938\n",
      "Epoch 49/1000\n",
      "4890/4890 [==============================] - 0s 67us/step - loss: 0.0370 - acc: 0.9855 - val_loss: 0.4123 - val_acc: 0.9126\n",
      "\n",
      "Epoch 00049: val_acc did not improve from 0.91938\n",
      "Epoch 50/1000\n",
      "4890/4890 [==============================] - 0s 68us/step - loss: 0.0380 - acc: 0.9869 - val_loss: 0.3628 - val_acc: 0.9225\n",
      "\n",
      "Epoch 00050: val_acc improved from 0.91938 to 0.92246, saving model to .\\data\\data\\best_model_novel_60.h5\n",
      "Epoch 51/1000\n",
      "4890/4890 [==============================] - 0s 68us/step - loss: 0.0353 - acc: 0.9877 - val_loss: 0.3540 - val_acc: 0.9225\n",
      "\n",
      "Epoch 00051: val_acc did not improve from 0.92246\n",
      "Epoch 52/1000\n",
      "4890/4890 [==============================] - 0s 67us/step - loss: 0.0441 - acc: 0.9849 - val_loss: 0.3957 - val_acc: 0.9108\n",
      "\n",
      "Epoch 00052: val_acc did not improve from 0.92246\n",
      "Epoch 53/1000\n",
      "4890/4890 [==============================] - 0s 67us/step - loss: 0.0629 - acc: 0.9820 - val_loss: 0.3578 - val_acc: 0.9151\n",
      "\n",
      "Epoch 00053: val_acc did not improve from 0.92246\n",
      "Epoch 54/1000\n",
      "4890/4890 [==============================] - 0s 67us/step - loss: 0.0394 - acc: 0.9867 - val_loss: 0.3496 - val_acc: 0.9163\n",
      "\n",
      "Epoch 00054: val_acc did not improve from 0.92246\n",
      "Epoch 55/1000\n",
      "4890/4890 [==============================] - 0s 67us/step - loss: 0.0360 - acc: 0.9885 - val_loss: 0.3326 - val_acc: 0.9163\n",
      "\n",
      "Epoch 00055: val_acc did not improve from 0.92246\n",
      "Epoch 56/1000\n",
      "4890/4890 [==============================] - 0s 67us/step - loss: 0.0387 - acc: 0.9867 - val_loss: 0.3832 - val_acc: 0.9120\n",
      "\n",
      "Epoch 00056: val_acc did not improve from 0.92246\n",
      "Epoch 57/1000\n",
      "4890/4890 [==============================] - 0s 67us/step - loss: 0.0316 - acc: 0.9892 - val_loss: 0.3699 - val_acc: 0.9188\n",
      "\n",
      "Epoch 00057: val_acc did not improve from 0.92246\n",
      "Epoch 58/1000\n",
      "4890/4890 [==============================] - 0s 66us/step - loss: 0.0588 - acc: 0.9800 - val_loss: 0.4066 - val_acc: 0.8997\n",
      "\n",
      "Epoch 00058: val_acc did not improve from 0.92246\n",
      "Epoch 59/1000\n",
      "4890/4890 [==============================] - 0s 69us/step - loss: 0.0425 - acc: 0.9836 - val_loss: 0.3532 - val_acc: 0.9194\n",
      "\n",
      "Epoch 00059: val_acc did not improve from 0.92246\n",
      "Epoch 00059: early stopping\n"
     ]
    }
   ],
   "source": [
    "es = EarlyStopping(monitor='val_loss', mode='min', verbose=verbose, patience=50)\n",
    "\n",
    "mc = ModelCheckpoint('.\\\\data\\\\data\\\\best_model_novel_60.h5', monitor='val_acc', mode='max', verbose=verbose,\n",
    "                     save_best_only=True)\n",
    "\n",
    "history_novel = model_novel.fit(X_train, y_train, epochs = epochs, \n",
    "          validation_data = (X_val, y_val), \n",
    "          batch_size = batch_size, verbose=verbose,\n",
    "                   callbacks=[es, mc])"
   ]
  },
  {
   "cell_type": "code",
   "execution_count": 25,
   "metadata": {},
   "outputs": [],
   "source": [
    "saved_model_novel = load_model('.\\\\data\\\\data\\\\best_model_novel_60.h5')"
   ]
  },
  {
   "cell_type": "code",
   "execution_count": 26,
   "metadata": {
    "colab": {},
    "colab_type": "code",
    "id": "lfYZDbZtQvMS"
   },
   "outputs": [],
   "source": [
    "y_pred_novel = saved_model_novel.predict_classes(X_test)"
   ]
  },
  {
   "cell_type": "code",
   "execution_count": 27,
   "metadata": {},
   "outputs": [
    {
     "name": "stdout",
     "output_type": "stream",
     "text": [
      "1625/1625 [==============================] - 0s 46us/sample - loss: 0.5094 - acc: 0.9194\n"
     ]
    },
    {
     "data": {
      "text/plain": [
       "0.9193846"
      ]
     },
     "execution_count": 27,
     "metadata": {},
     "output_type": "execute_result"
    }
   ],
   "source": [
    "_, accuracy_novel = saved_model_novel.evaluate(X_test, y_test, batch_size=batch_size, verbose=1)\n",
    "accuracy_novel"
   ]
  },
  {
   "cell_type": "code",
   "execution_count": 28,
   "metadata": {
    "scrolled": true
   },
   "outputs": [
    {
     "name": "stdout",
     "output_type": "stream",
     "text": [
      "              precision    recall  f1-score   support\n",
      "\n",
      "     cycling     0.8970    0.9108    0.9038       325\n",
      "     driving     0.8338    0.8646    0.8489       325\n",
      "     jogging     0.9789    0.9969    0.9878       325\n",
      "    sleeping     0.9577    0.9754    0.9665       325\n",
      "     walking     0.9324    0.8492    0.8889       325\n",
      "\n",
      "    accuracy                         0.9194      1625\n",
      "   macro avg     0.9200    0.9194    0.9192      1625\n",
      "weighted avg     0.9200    0.9194    0.9192      1625\n",
      "\n"
     ]
    }
   ],
   "source": [
    "print(metrics.classification_report(np.argmax(y_test,axis=1), y_pred_novel, target_names = activities, digits = 4))"
   ]
  },
  {
   "cell_type": "code",
   "execution_count": 29,
   "metadata": {},
   "outputs": [
    {
     "name": "stdout",
     "output_type": "stream",
     "text": [
      "Confusion matrix:\n",
      "[[296  19   2   2   6]\n",
      " [ 20 281   1   9  14]\n",
      " [  1   0 324   0   0]\n",
      " [  2   6   0 317   0]\n",
      " [ 11  31   4   3 276]]\n"
     ]
    }
   ],
   "source": [
    "print(\"Confusion matrix:\\n%s\" % metrics.confusion_matrix(np.argmax(y_test,axis=1), y_pred_novel))"
   ]
  },
  {
   "cell_type": "code",
   "execution_count": 30,
   "metadata": {
    "colab": {},
    "colab_type": "code",
    "id": "tgNuz71ePy_Q"
   },
   "outputs": [],
   "source": [
    "results = open(\"accuracy_novel60.txt\",\"w\")\n",
    "results.write(str(accuracy_novel))\n",
    "results.close()"
   ]
  },
  {
   "cell_type": "code",
   "execution_count": 31,
   "metadata": {
    "colab": {},
    "colab_type": "code",
    "id": "zxKnT3FMDCDG",
    "scrolled": true
   },
   "outputs": [
    {
     "data": {
      "image/png": "[encoded data removed]",
      "text/plain": [
       "<Figure size 432x288 with 1 Axes>"
      ]
     },
     "metadata": {
      "needs_background": "light"
     },
     "output_type": "display_data"
    },
    {
     "data": {
      "image/png": "[encoded data removed]",
      "text/plain": [
       "<Figure size 432x288 with 1 Axes>"
      ]
     },
     "metadata": {
      "needs_background": "light"
     },
     "output_type": "display_data"
    }
   ],
   "source": [
    "acc = history_novel.history['acc']\n",
    "\n",
    "val_acc = history_novel.history['val_acc']\n",
    "loss = history_novel.history['loss']\n",
    "val_loss = history_novel.history['val_loss']\n",
    "\n",
    "epochs = range(1, len(acc) + 1)\n",
    "\n",
    "plt.plot(epochs, acc, 'bo', label='Training acc')\n",
    "plt.plot(epochs, val_acc, 'b', label='Validation acc')\n",
    "plt.title('Training and validation accuracy')\n",
    "plt.savefig('novel60_graph'+str(1)+'.png')\n",
    "plt.legend()\n",
    "\n",
    "plt.figure()\n",
    "\n",
    "plt.plot(epochs, loss, 'bo', label='Training loss')\n",
    "plt.plot(epochs, val_loss, 'b', label='Validation loss')\n",
    "plt.title('Training and validation loss')\n",
    "plt.savefig('novel60_graph'+str(2)+'.png')\n",
    "plt.legend()\n",
    "\n",
    "plt.show()"
   ]
  },
  {
   "cell_type": "markdown",
   "metadata": {},
   "source": [
    "---"
   ]
  },
  {
   "cell_type": "markdown",
   "metadata": {},
   "source": [
    "## ResNet CNN Architecture"
   ]
  },
  {
   "cell_type": "code",
   "execution_count": 32,
   "metadata": {},
   "outputs": [],
   "source": [
    "import keras as keras\n",
    "import tensorflow as tf"
   ]
  },
  {
   "cell_type": "code",
   "execution_count": 33,
   "metadata": {},
   "outputs": [],
   "source": [
    "verbose, epochs, batch_size = 1, 1000, 64"
   ]
  },
  {
   "cell_type": "code",
   "execution_count": 34,
   "metadata": {},
   "outputs": [],
   "source": [
    "## Architecture is from https://github.com/hfawaz/dl-4-tsc/blob/master/classifiers/resnet.py\n",
    "n_feature_maps = 64\n",
    "\n",
    "input_layer = keras.layers.Input(shape = (n_timesteps,n_features))\n",
    "\n",
    "# BLOCK 1\n",
    "\n",
    "conv_x = keras.layers.Conv1D(filters=n_feature_maps, kernel_size=8, padding='same')(input_layer)\n",
    "conv_x = keras.layers.BatchNormalization()(conv_x)\n",
    "conv_x = keras.layers.Activation('relu')(conv_x)\n",
    "\n",
    "conv_y = keras.layers.Conv1D(filters=n_feature_maps, kernel_size=5, padding='same')(conv_x)\n",
    "conv_y = keras.layers.BatchNormalization()(conv_y)\n",
    "conv_y = keras.layers.Activation('relu')(conv_y)\n",
    "\n",
    "conv_z = keras.layers.Conv1D(filters=n_feature_maps, kernel_size=3, padding='same')(conv_y)\n",
    "conv_z = keras.layers.BatchNormalization()(conv_z)\n",
    "\n",
    "# expand channels for the sum\n",
    "shortcut_y = keras.layers.Conv1D(filters=n_feature_maps, kernel_size=1, padding='same')(input_layer)\n",
    "shortcut_y = keras.layers.BatchNormalization()(shortcut_y)\n",
    "\n",
    "output_block_1 = keras.layers.add([shortcut_y, conv_z])\n",
    "output_block_1 = keras.layers.Activation('relu')(output_block_1)\n",
    "\n",
    "# BLOCK 2\n",
    "\n",
    "conv_x = keras.layers.Conv1D(filters=n_feature_maps * 2, kernel_size=8, padding='same')(output_block_1)\n",
    "conv_x = keras.layers.BatchNormalization()(conv_x)\n",
    "conv_x = keras.layers.Activation('relu')(conv_x)\n",
    "\n",
    "conv_y = keras.layers.Conv1D(filters=n_feature_maps * 2, kernel_size=5, padding='same')(conv_x)\n",
    "conv_y = keras.layers.BatchNormalization()(conv_y)\n",
    "conv_y = keras.layers.Activation('relu')(conv_y)\n",
    "\n",
    "conv_z = keras.layers.Conv1D(filters=n_feature_maps * 2, kernel_size=3, padding='same')(conv_y)\n",
    "conv_z = keras.layers.BatchNormalization()(conv_z)\n",
    "\n",
    "# expand channels for the sum\n",
    "shortcut_y = keras.layers.Conv1D(filters=n_feature_maps * 2, kernel_size=1, padding='same')(output_block_1)\n",
    "shortcut_y = keras.layers.BatchNormalization()(shortcut_y)\n",
    "\n",
    "output_block_2 = keras.layers.add([shortcut_y, conv_z])\n",
    "output_block_2 = keras.layers.Activation('relu')(output_block_2)\n",
    "\n",
    "# BLOCK 3\n",
    "\n",
    "conv_x = keras.layers.Conv1D(filters=n_feature_maps * 2, kernel_size=8, padding='same')(output_block_2)\n",
    "conv_x = keras.layers.BatchNormalization()(conv_x)\n",
    "conv_x = keras.layers.Activation('relu')(conv_x)\n",
    "\n",
    "conv_y = keras.layers.Conv1D(filters=n_feature_maps * 2, kernel_size=5, padding='same')(conv_x)\n",
    "conv_y = keras.layers.BatchNormalization()(conv_y)\n",
    "conv_y = keras.layers.Activation('relu')(conv_y)\n",
    "\n",
    "conv_z = keras.layers.Conv1D(filters=n_feature_maps * 2, kernel_size=3, padding='same')(conv_y)\n",
    "conv_z = keras.layers.BatchNormalization()(conv_z)\n",
    "\n",
    "# no need to expand channels because they are equal\n",
    "shortcut_y = keras.layers.BatchNormalization()(output_block_2)\n",
    "\n",
    "output_block_3 = keras.layers.add([shortcut_y, conv_z])\n",
    "output_block_3 = keras.layers.Activation('relu')(output_block_3)\n",
    "\n",
    "# FINAL\n",
    "\n",
    "gap_layer = keras.layers.GlobalAveragePooling1D()(output_block_3)\n",
    "\n",
    "output_layer = keras.layers.Dense(n_outputs, activation='softmax')(gap_layer)\n",
    "\n",
    "model_resnet = keras.models.Model(inputs=input_layer, outputs=output_layer)\n",
    "\n",
    "model_resnet.compile(loss='categorical_crossentropy', optimizer=keras.optimizers.Adam(),\n",
    "              metrics=['acc'])"
   ]
  },
  {
   "cell_type": "code",
   "execution_count": 35,
   "metadata": {},
   "outputs": [
    {
     "name": "stdout",
     "output_type": "stream",
     "text": [
      "Train on 4890 samples, validate on 1625 samples\n",
      "Epoch 1/1000\n",
      "4890/4890 [==============================] - 5s 1ms/step - loss: 0.4172 - acc: 0.8607 - val_loss: 0.3452 - val_acc: 0.8880\n",
      "\n",
      "Epoch 00001: val_acc improved from -inf to 0.88800, saving model to .\\data\\data\\best_model_resnet_60.h5\n",
      "Epoch 2/1000\n",
      "4890/4890 [==============================] - 3s 515us/step - loss: 0.3061 - acc: 0.8980 - val_loss: 0.3052 - val_acc: 0.9046\n",
      "\n",
      "Epoch 00002: val_acc improved from 0.88800 to 0.90462, saving model to .\\data\\data\\best_model_resnet_60.h5\n",
      "Epoch 3/1000\n",
      "4890/4890 [==============================] - 3s 521us/step - loss: 0.2865 - acc: 0.9045 - val_loss: 0.2901 - val_acc: 0.9138\n",
      "\n",
      "Epoch 00003: val_acc improved from 0.90462 to 0.91385, saving model to .\\data\\data\\best_model_resnet_60.h5\n",
      "Epoch 4/1000\n",
      "4890/4890 [==============================] - 3s 539us/step - loss: 0.2870 - acc: 0.8980 - val_loss: 1.1692 - val_acc: 0.6658\n",
      "\n",
      "Epoch 00004: val_acc did not improve from 0.91385\n",
      "Epoch 5/1000\n",
      "4890/4890 [==============================] - 3s 551us/step - loss: 0.2687 - acc: 0.9076 - val_loss: 0.2717 - val_acc: 0.9102\n",
      "\n",
      "Epoch 00005: val_acc did not improve from 0.91385\n",
      "Epoch 6/1000\n",
      "4890/4890 [==============================] - 3s 512us/step - loss: 0.2491 - acc: 0.9141 - val_loss: 0.2889 - val_acc: 0.9108\n",
      "\n",
      "Epoch 00006: val_acc did not improve from 0.91385\n",
      "Epoch 7/1000\n",
      "4890/4890 [==============================] - 3s 513us/step - loss: 0.2301 - acc: 0.9190 - val_loss: 0.2450 - val_acc: 0.9163\n",
      "\n",
      "Epoch 00007: val_acc improved from 0.91385 to 0.91631, saving model to .\\data\\data\\best_model_resnet_60.h5\n",
      "Epoch 8/1000\n",
      "4890/4890 [==============================] - 3s 539us/step - loss: 0.2506 - acc: 0.9092 - val_loss: 0.3303 - val_acc: 0.8862\n",
      "\n",
      "Epoch 00008: val_acc did not improve from 0.91631\n",
      "Epoch 9/1000\n",
      "4890/4890 [==============================] - 3s 521us/step - loss: 0.2279 - acc: 0.9237 - val_loss: 0.2397 - val_acc: 0.9151\n",
      "\n",
      "Epoch 00009: val_acc did not improve from 0.91631\n",
      "Epoch 10/1000\n",
      "4890/4890 [==============================] - 3s 511us/step - loss: 0.2217 - acc: 0.9227 - val_loss: 0.3071 - val_acc: 0.9065\n",
      "\n",
      "Epoch 00010: val_acc did not improve from 0.91631\n",
      "Epoch 11/1000\n",
      "4890/4890 [==============================] - 3s 514us/step - loss: 0.2189 - acc: 0.9258 - val_loss: 0.2503 - val_acc: 0.9182\n",
      "\n",
      "Epoch 00011: val_acc improved from 0.91631 to 0.91815, saving model to .\\data\\data\\best_model_resnet_60.h5\n",
      "Epoch 12/1000\n",
      "4890/4890 [==============================] - 3s 512us/step - loss: 0.2152 - acc: 0.9252 - val_loss: 0.2809 - val_acc: 0.9009\n",
      "\n",
      "Epoch 00012: val_acc did not improve from 0.91815\n",
      "Epoch 13/1000\n",
      "4890/4890 [==============================] - 2s 510us/step - loss: 0.2029 - acc: 0.9290 - val_loss: 0.2274 - val_acc: 0.9274\n",
      "\n",
      "Epoch 00013: val_acc improved from 0.91815 to 0.92738, saving model to .\\data\\data\\best_model_resnet_60.h5\n",
      "Epoch 14/1000\n",
      "4890/4890 [==============================] - 3s 513us/step - loss: 0.1895 - acc: 0.9313 - val_loss: 0.2058 - val_acc: 0.9255\n",
      "\n",
      "Epoch 00014: val_acc did not improve from 0.92738\n",
      "Epoch 15/1000\n",
      "4890/4890 [==============================] - 3s 517us/step - loss: 0.2006 - acc: 0.9301 - val_loss: 0.2657 - val_acc: 0.9200\n",
      "\n",
      "Epoch 00015: val_acc did not improve from 0.92738\n",
      "Epoch 16/1000\n",
      "4890/4890 [==============================] - 3s 518us/step - loss: 0.1955 - acc: 0.9282 - val_loss: 0.2053 - val_acc: 0.9262\n",
      "\n",
      "Epoch 00016: val_acc did not improve from 0.92738\n",
      "Epoch 17/1000\n",
      "4890/4890 [==============================] - 3s 532us/step - loss: 0.1937 - acc: 0.9301 - val_loss: 0.2070 - val_acc: 0.9249\n",
      "\n",
      "Epoch 00017: val_acc did not improve from 0.92738\n",
      "Epoch 18/1000\n",
      "4890/4890 [==============================] - 3s 520us/step - loss: 0.1903 - acc: 0.9321 - val_loss: 0.2087 - val_acc: 0.9218\n",
      "\n",
      "Epoch 00018: val_acc did not improve from 0.92738\n",
      "Epoch 19/1000\n",
      "4890/4890 [==============================] - 3s 514us/step - loss: 0.1861 - acc: 0.9311 - val_loss: 0.2313 - val_acc: 0.9188\n",
      "\n",
      "Epoch 00019: val_acc did not improve from 0.92738\n",
      "Epoch 20/1000\n",
      "4890/4890 [==============================] - 3s 538us/step - loss: 0.1926 - acc: 0.9344 - val_loss: 0.2076 - val_acc: 0.9200\n",
      "\n",
      "Epoch 00020: val_acc did not improve from 0.92738\n",
      "Epoch 21/1000\n",
      "4890/4890 [==============================] - 3s 528us/step - loss: 0.1982 - acc: 0.9286 - val_loss: 0.2057 - val_acc: 0.9255\n",
      "\n",
      "Epoch 00021: val_acc did not improve from 0.92738\n",
      "Epoch 22/1000\n",
      "4890/4890 [==============================] - 3s 519us/step - loss: 0.1820 - acc: 0.9317 - val_loss: 0.1882 - val_acc: 0.9311\n",
      "\n",
      "Epoch 00022: val_acc improved from 0.92738 to 0.93108, saving model to .\\data\\data\\best_model_resnet_60.h5\n",
      "Epoch 23/1000\n",
      "4890/4890 [==============================] - 3s 524us/step - loss: 0.1678 - acc: 0.9380 - val_loss: 0.1993 - val_acc: 0.9249\n",
      "\n",
      "Epoch 00023: val_acc did not improve from 0.93108\n",
      "Epoch 24/1000\n",
      "4890/4890 [==============================] - 3s 522us/step - loss: 0.1677 - acc: 0.9436 - val_loss: 0.2063 - val_acc: 0.9317\n",
      "\n",
      "Epoch 00024: val_acc improved from 0.93108 to 0.93169, saving model to .\\data\\data\\best_model_resnet_60.h5\n",
      "Epoch 25/1000\n",
      "4890/4890 [==============================] - 3s 529us/step - loss: 0.1597 - acc: 0.9427 - val_loss: 0.1806 - val_acc: 0.9323\n",
      "\n",
      "Epoch 00025: val_acc improved from 0.93169 to 0.93231, saving model to .\\data\\data\\best_model_resnet_60.h5\n",
      "Epoch 26/1000\n",
      "4890/4890 [==============================] - 3s 517us/step - loss: 0.1513 - acc: 0.9470 - val_loss: 0.2336 - val_acc: 0.9255\n",
      "\n",
      "Epoch 00026: val_acc did not improve from 0.93231\n",
      "Epoch 27/1000\n",
      "4890/4890 [==============================] - 3s 522us/step - loss: 0.1481 - acc: 0.9468 - val_loss: 0.1630 - val_acc: 0.9409\n",
      "\n",
      "Epoch 00027: val_acc improved from 0.93231 to 0.94092, saving model to .\\data\\data\\best_model_resnet_60.h5\n",
      "Epoch 28/1000\n",
      "4890/4890 [==============================] - 3s 527us/step - loss: 0.1377 - acc: 0.9509 - val_loss: 0.2168 - val_acc: 0.9274\n",
      "\n",
      "Epoch 00028: val_acc did not improve from 0.94092\n",
      "Epoch 29/1000\n",
      "4890/4890 [==============================] - 3s 524us/step - loss: 0.1424 - acc: 0.9479 - val_loss: 0.1780 - val_acc: 0.9385\n",
      "\n",
      "Epoch 00029: val_acc did not improve from 0.94092\n",
      "Epoch 30/1000\n",
      "4890/4890 [==============================] - 3s 536us/step - loss: 0.1362 - acc: 0.9513 - val_loss: 0.2052 - val_acc: 0.9335\n",
      "\n",
      "Epoch 00030: val_acc did not improve from 0.94092\n",
      "Epoch 31/1000\n",
      "4890/4890 [==============================] - 3s 525us/step - loss: 0.1332 - acc: 0.9521 - val_loss: 0.1680 - val_acc: 0.9366\n",
      "\n",
      "Epoch 00031: val_acc did not improve from 0.94092\n",
      "Epoch 32/1000\n",
      "4890/4890 [==============================] - 3s 525us/step - loss: 0.1208 - acc: 0.9573 - val_loss: 0.1451 - val_acc: 0.9465\n",
      "\n",
      "Epoch 00032: val_acc improved from 0.94092 to 0.94646, saving model to .\\data\\data\\best_model_resnet_60.h5\n",
      "Epoch 33/1000\n",
      "4890/4890 [==============================] - 3s 520us/step - loss: 0.1196 - acc: 0.9534 - val_loss: 0.1750 - val_acc: 0.9397\n",
      "\n",
      "Epoch 00033: val_acc did not improve from 0.94646\n",
      "Epoch 34/1000\n",
      "4890/4890 [==============================] - 3s 526us/step - loss: 0.1206 - acc: 0.9577 - val_loss: 0.1417 - val_acc: 0.9483\n",
      "\n",
      "Epoch 00034: val_acc improved from 0.94646 to 0.94831, saving model to .\\data\\data\\best_model_resnet_60.h5\n",
      "Epoch 35/1000\n",
      "4890/4890 [==============================] - 3s 517us/step - loss: 0.1163 - acc: 0.9564 - val_loss: 0.1452 - val_acc: 0.9458\n",
      "\n",
      "Epoch 00035: val_acc did not improve from 0.94831\n",
      "Epoch 36/1000\n",
      "4890/4890 [==============================] - 3s 524us/step - loss: 0.1163 - acc: 0.9548 - val_loss: 0.1926 - val_acc: 0.9372\n",
      "\n",
      "Epoch 00036: val_acc did not improve from 0.94831\n",
      "Epoch 37/1000\n",
      "4890/4890 [==============================] - 3s 529us/step - loss: 0.1557 - acc: 0.9450 - val_loss: 0.2469 - val_acc: 0.9175\n",
      "\n",
      "Epoch 00037: val_acc did not improve from 0.94831\n",
      "Epoch 38/1000\n",
      "4890/4890 [==============================] - 3s 528us/step - loss: 0.1277 - acc: 0.9521 - val_loss: 0.1474 - val_acc: 0.9434\n",
      "\n",
      "Epoch 00038: val_acc did not improve from 0.94831\n",
      "Epoch 39/1000\n",
      "4890/4890 [==============================] - 3s 525us/step - loss: 0.1188 - acc: 0.9556 - val_loss: 0.1643 - val_acc: 0.9409173 - acc: 0.95\n",
      "\n",
      "Epoch 00039: val_acc did not improve from 0.94831\n",
      "Epoch 40/1000\n"
     ]
    },
    {
     "name": "stdout",
     "output_type": "stream",
     "text": [
      "4890/4890 [==============================] - 3s 523us/step - loss: 0.1133 - acc: 0.9593 - val_loss: 0.1388 - val_acc: 0.9446\n",
      "\n",
      "Epoch 00040: val_acc did not improve from 0.94831\n",
      "Epoch 41/1000\n",
      "4890/4890 [==============================] - 3s 538us/step - loss: 0.1215 - acc: 0.9562 - val_loss: 0.1529 - val_acc: 0.9428\n",
      "\n",
      "Epoch 00041: val_acc did not improve from 0.94831\n",
      "Epoch 42/1000\n",
      "4890/4890 [==============================] - 3s 526us/step - loss: 0.1037 - acc: 0.9630 - val_loss: 0.1498 - val_acc: 0.9434\n",
      "\n",
      "Epoch 00042: val_acc did not improve from 0.94831\n",
      "Epoch 43/1000\n",
      "4890/4890 [==============================] - 3s 526us/step - loss: 0.1050 - acc: 0.9573 - val_loss: 0.1503 - val_acc: 0.9458\n",
      "\n",
      "Epoch 00043: val_acc did not improve from 0.94831\n",
      "Epoch 44/1000\n",
      "4890/4890 [==============================] - 3s 537us/step - loss: 0.1173 - acc: 0.9542 - val_loss: 0.1633 - val_acc: 0.9354\n",
      "\n",
      "Epoch 00044: val_acc did not improve from 0.94831\n",
      "Epoch 45/1000\n",
      "4890/4890 [==============================] - 3s 536us/step - loss: 0.1008 - acc: 0.9622 - val_loss: 0.1509 - val_acc: 0.9471\n",
      "\n",
      "Epoch 00045: val_acc did not improve from 0.94831\n",
      "Epoch 46/1000\n",
      "4890/4890 [==============================] - 3s 526us/step - loss: 0.1105 - acc: 0.9595 - val_loss: 0.1578 - val_acc: 0.9422\n",
      "\n",
      "Epoch 00046: val_acc did not improve from 0.94831\n",
      "Epoch 47/1000\n",
      "4890/4890 [==============================] - 3s 524us/step - loss: 0.1111 - acc: 0.9579 - val_loss: 0.1385 - val_acc: 0.9489\n",
      "\n",
      "Epoch 00047: val_acc improved from 0.94831 to 0.94892, saving model to .\\data\\data\\best_model_resnet_60.h5\n",
      "Epoch 48/1000\n",
      "4890/4890 [==============================] - 3s 528us/step - loss: 0.1122 - acc: 0.9577 - val_loss: 0.1888 - val_acc: 0.9391\n",
      "\n",
      "Epoch 00048: val_acc did not improve from 0.94892\n",
      "Epoch 49/1000\n",
      "4890/4890 [==============================] - 3s 526us/step - loss: 0.1050 - acc: 0.9616 - val_loss: 0.1548 - val_acc: 0.9489\n",
      "\n",
      "Epoch 00049: val_acc did not improve from 0.94892\n",
      "Epoch 50/1000\n",
      "4890/4890 [==============================] - 3s 527us/step - loss: 0.0991 - acc: 0.9605 - val_loss: 0.1776 - val_acc: 0.9403\n",
      "\n",
      "Epoch 00050: val_acc did not improve from 0.94892\n",
      "Epoch 51/1000\n",
      "4890/4890 [==============================] - 3s 526us/step - loss: 0.1016 - acc: 0.9613 - val_loss: 0.1479 - val_acc: 0.9502: 1s \n",
      "\n",
      "Epoch 00051: val_acc improved from 0.94892 to 0.95015, saving model to .\\data\\data\\best_model_resnet_60.h5\n",
      "Epoch 52/1000\n",
      "4890/4890 [==============================] - 3s 546us/step - loss: 0.0981 - acc: 0.9644 - val_loss: 0.1402 - val_acc: 0.9477\n",
      "\n",
      "Epoch 00052: val_acc did not improve from 0.95015\n",
      "Epoch 53/1000\n",
      "4890/4890 [==============================] - 3s 526us/step - loss: 0.0952 - acc: 0.9646 - val_loss: 0.1507 - val_acc: 0.9477\n",
      "\n",
      "Epoch 00053: val_acc did not improve from 0.95015\n",
      "Epoch 54/1000\n",
      "4890/4890 [==============================] - 3s 516us/step - loss: 0.0869 - acc: 0.9661 - val_loss: 0.1467 - val_acc: 0.9526\n",
      "\n",
      "Epoch 00054: val_acc improved from 0.95015 to 0.95262, saving model to .\\data\\data\\best_model_resnet_60.h5\n",
      "Epoch 55/1000\n",
      "4890/4890 [==============================] - 3s 513us/step - loss: 0.0882 - acc: 0.9671 - val_loss: 0.1423 - val_acc: 0.9514\n",
      "\n",
      "Epoch 00055: val_acc did not improve from 0.95262\n",
      "Epoch 56/1000\n",
      "4890/4890 [==============================] - 2s 506us/step - loss: 0.0907 - acc: 0.9652 - val_loss: 0.1419 - val_acc: 0.9502\n",
      "\n",
      "Epoch 00056: val_acc did not improve from 0.95262\n",
      "Epoch 57/1000\n",
      "4890/4890 [==============================] - 3s 513us/step - loss: 0.0884 - acc: 0.9663 - val_loss: 0.2452 - val_acc: 0.9385\n",
      "\n",
      "Epoch 00057: val_acc did not improve from 0.95262\n",
      "Epoch 58/1000\n",
      "4890/4890 [==============================] - 3s 519us/step - loss: 0.0927 - acc: 0.9656 - val_loss: 0.1576 - val_acc: 0.9452\n",
      "\n",
      "Epoch 00058: val_acc did not improve from 0.95262\n",
      "Epoch 59/1000\n",
      "4890/4890 [==============================] - 3s 512us/step - loss: 0.0814 - acc: 0.9689 - val_loss: 0.1438 - val_acc: 0.9520\n",
      "\n",
      "Epoch 00059: val_acc did not improve from 0.95262\n",
      "Epoch 60/1000\n",
      "4890/4890 [==============================] - 2s 507us/step - loss: 0.0755 - acc: 0.9716 - val_loss: 0.1491 - val_acc: 0.9502\n",
      "\n",
      "Epoch 00060: val_acc did not improve from 0.95262\n",
      "Epoch 61/1000\n",
      "4890/4890 [==============================] - 2s 506us/step - loss: 0.0792 - acc: 0.9728 - val_loss: 1.3421 - val_acc: 0.7538\n",
      "\n",
      "Epoch 00061: val_acc did not improve from 0.95262\n",
      "Epoch 62/1000\n",
      "4890/4890 [==============================] - 2s 507us/step - loss: 0.0881 - acc: 0.9671 - val_loss: 0.1573 - val_acc: 0.9495\n",
      "\n",
      "Epoch 00062: val_acc did not improve from 0.95262\n",
      "Epoch 63/1000\n",
      "4890/4890 [==============================] - 3s 526us/step - loss: 0.0796 - acc: 0.9697 - val_loss: 0.1391 - val_acc: 0.9489\n",
      "\n",
      "Epoch 00063: val_acc did not improve from 0.95262\n",
      "Epoch 64/1000\n",
      "4890/4890 [==============================] - 3s 521us/step - loss: 0.0833 - acc: 0.9677 - val_loss: 0.1520 - val_acc: 0.9520\n",
      "\n",
      "Epoch 00064: val_acc did not improve from 0.95262\n",
      "Epoch 65/1000\n",
      "4890/4890 [==============================] - 3s 525us/step - loss: 0.0814 - acc: 0.9691 - val_loss: 0.1807 - val_acc: 0.9471\n",
      "\n",
      "Epoch 00065: val_acc did not improve from 0.95262\n",
      "Epoch 66/1000\n",
      "4890/4890 [==============================] - 3s 520us/step - loss: 0.0797 - acc: 0.9693 - val_loss: 0.1415 - val_acc: 0.9545\n",
      "\n",
      "Epoch 00066: val_acc improved from 0.95262 to 0.95446, saving model to .\\data\\data\\best_model_resnet_60.h5\n",
      "Epoch 67/1000\n",
      "4890/4890 [==============================] - 2s 508us/step - loss: 0.0652 - acc: 0.9746 - val_loss: 0.1487 - val_acc: 0.9477\n",
      "\n",
      "Epoch 00067: val_acc did not improve from 0.95446\n",
      "Epoch 68/1000\n",
      "4890/4890 [==============================] - 3s 524us/step - loss: 0.0766 - acc: 0.9706 - val_loss: 0.2102 - val_acc: 0.9489\n",
      "\n",
      "Epoch 00068: val_acc did not improve from 0.95446\n",
      "Epoch 69/1000\n",
      "4890/4890 [==============================] - 3s 525us/step - loss: 0.0916 - acc: 0.9661 - val_loss: 0.1791 - val_acc: 0.9434\n",
      "\n",
      "Epoch 00069: val_acc did not improve from 0.95446\n",
      "Epoch 70/1000\n",
      "4890/4890 [==============================] - 3s 534us/step - loss: 0.0727 - acc: 0.9724 - val_loss: 0.1559 - val_acc: 0.9520\n",
      "\n",
      "Epoch 00070: val_acc did not improve from 0.95446\n",
      "Epoch 71/1000\n",
      "4890/4890 [==============================] - 3s 525us/step - loss: 0.0664 - acc: 0.9761 - val_loss: 0.1610 - val_acc: 0.9446\n",
      "\n",
      "Epoch 00071: val_acc did not improve from 0.95446\n",
      "Epoch 72/1000\n",
      "4890/4890 [==============================] - 3s 527us/step - loss: 0.0722 - acc: 0.9716 - val_loss: 0.1644 - val_acc: 0.9495\n",
      "\n",
      "Epoch 00072: val_acc did not improve from 0.95446\n",
      "Epoch 73/1000\n",
      "4890/4890 [==============================] - 3s 523us/step - loss: 0.0766 - acc: 0.9703 - val_loss: 0.1639 - val_acc: 0.9526\n",
      "\n",
      "Epoch 00073: val_acc did not improve from 0.95446\n",
      "Epoch 74/1000\n",
      "4890/4890 [==============================] - 3s 523us/step - loss: 0.0684 - acc: 0.9748 - val_loss: 0.1399 - val_acc: 0.9563\n",
      "\n",
      "Epoch 00074: val_acc improved from 0.95446 to 0.95631, saving model to .\\data\\data\\best_model_resnet_60.h5\n",
      "Epoch 75/1000\n",
      "4890/4890 [==============================] - 3s 536us/step - loss: 0.0620 - acc: 0.9748 - val_loss: 0.1540 - val_acc: 0.9538\n",
      "\n",
      "Epoch 00075: val_acc did not improve from 0.95631\n",
      "Epoch 76/1000\n",
      "4890/4890 [==============================] - 3s 529us/step - loss: 0.0725 - acc: 0.9714 - val_loss: 0.1696 - val_acc: 0.9440\n",
      "\n",
      "Epoch 00076: val_acc did not improve from 0.95631\n",
      "Epoch 77/1000\n",
      "4890/4890 [==============================] - 3s 530us/step - loss: 0.0814 - acc: 0.9683 - val_loss: 0.2147 - val_acc: 0.9415\n",
      "\n",
      "Epoch 00077: val_acc did not improve from 0.95631\n",
      "Epoch 78/1000\n",
      "4890/4890 [==============================] - 3s 534us/step - loss: 0.0665 - acc: 0.9732 - val_loss: 0.1395 - val_acc: 0.9557\n",
      "\n",
      "Epoch 00078: val_acc did not improve from 0.95631\n",
      "Epoch 79/1000\n",
      "4890/4890 [==============================] - 3s 535us/step - loss: 0.0640 - acc: 0.9751 - val_loss: 0.1547 - val_acc: 0.9575\n",
      "\n",
      "Epoch 00079: val_acc improved from 0.95631 to 0.95754, saving model to .\\data\\data\\best_model_resnet_60.h5\n",
      "Epoch 80/1000\n",
      "4890/4890 [==============================] - 3s 521us/step - loss: 0.0671 - acc: 0.9730 - val_loss: 0.1479 - val_acc: 0.9575\n",
      "\n",
      "Epoch 00080: val_acc did not improve from 0.95754\n",
      "Epoch 81/1000\n"
     ]
    },
    {
     "name": "stdout",
     "output_type": "stream",
     "text": [
      "4890/4890 [==============================] - 3s 525us/step - loss: 0.0590 - acc: 0.9783 - val_loss: 0.1462 - val_acc: 0.9545\n",
      "\n",
      "Epoch 00081: val_acc did not improve from 0.95754\n",
      "Epoch 82/1000\n",
      "4890/4890 [==============================] - 3s 528us/step - loss: 0.0541 - acc: 0.9798 - val_loss: 0.1504 - val_acc: 0.9569\n",
      "\n",
      "Epoch 00082: val_acc did not improve from 0.95754\n",
      "Epoch 83/1000\n",
      "4890/4890 [==============================] - 3s 523us/step - loss: 0.0783 - acc: 0.9726 - val_loss: 0.1659 - val_acc: 0.9502\n",
      "\n",
      "Epoch 00083: val_acc did not improve from 0.95754\n",
      "Epoch 84/1000\n",
      "4890/4890 [==============================] - 3s 526us/step - loss: 0.0579 - acc: 0.9783 - val_loss: 0.1435 - val_acc: 0.9588\n",
      "\n",
      "Epoch 00084: val_acc improved from 0.95754 to 0.95877, saving model to .\\data\\data\\best_model_resnet_60.h5\n",
      "Epoch 85/1000\n",
      "4890/4890 [==============================] - 3s 525us/step - loss: 0.0570 - acc: 0.9793 - val_loss: 0.1456 - val_acc: 0.9545\n",
      "\n",
      "Epoch 00085: val_acc did not improve from 0.95877\n",
      "Epoch 86/1000\n",
      "4890/4890 [==============================] - 3s 526us/step - loss: 0.0581 - acc: 0.9783 - val_loss: 0.1628 - val_acc: 0.9563\n",
      "\n",
      "Epoch 00086: val_acc did not improve from 0.95877\n",
      "Epoch 87/1000\n",
      "4890/4890 [==============================] - 3s 522us/step - loss: 0.0591 - acc: 0.9773 - val_loss: 0.1621 - val_acc: 0.9520\n",
      "\n",
      "Epoch 00087: val_acc did not improve from 0.95877\n",
      "Epoch 88/1000\n",
      "4890/4890 [==============================] - 3s 527us/step - loss: 0.0562 - acc: 0.9804 - val_loss: 0.1560 - val_acc: 0.9520\n",
      "\n",
      "Epoch 00088: val_acc did not improve from 0.95877\n",
      "Epoch 89/1000\n",
      "4890/4890 [==============================] - 3s 532us/step - loss: 0.0455 - acc: 0.9826 - val_loss: 0.1464 - val_acc: 0.9532\n",
      "\n",
      "Epoch 00089: val_acc did not improve from 0.95877\n",
      "Epoch 90/1000\n",
      "4890/4890 [==============================] - 3s 522us/step - loss: 0.0442 - acc: 0.9828 - val_loss: 0.1643 - val_acc: 0.9514\n",
      "\n",
      "Epoch 00090: val_acc did not improve from 0.95877\n",
      "Epoch 91/1000\n",
      "4890/4890 [==============================] - 3s 525us/step - loss: 0.0462 - acc: 0.9818 - val_loss: 0.1655 - val_acc: 0.9557\n",
      "\n",
      "Epoch 00091: val_acc did not improve from 0.95877\n",
      "Epoch 92/1000\n",
      "4890/4890 [==============================] - 3s 525us/step - loss: 0.0466 - acc: 0.9814 - val_loss: 0.2369 - val_acc: 0.9428\n",
      "\n",
      "Epoch 00092: val_acc did not improve from 0.95877\n",
      "Epoch 93/1000\n",
      "4890/4890 [==============================] - 3s 525us/step - loss: 0.0490 - acc: 0.9828 - val_loss: 0.1727 - val_acc: 0.9502\n",
      "\n",
      "Epoch 00093: val_acc did not improve from 0.95877\n",
      "Epoch 94/1000\n",
      "4890/4890 [==============================] - 3s 527us/step - loss: 0.0527 - acc: 0.9793 - val_loss: 0.1772 - val_acc: 0.9502\n",
      "\n",
      "Epoch 00094: val_acc did not improve from 0.95877\n",
      "Epoch 95/1000\n",
      "4890/4890 [==============================] - 3s 525us/step - loss: 0.0552 - acc: 0.9806 - val_loss: 0.1658 - val_acc: 0.9495\n",
      "\n",
      "Epoch 00095: val_acc did not improve from 0.95877\n",
      "Epoch 96/1000\n",
      "4890/4890 [==============================] - 3s 519us/step - loss: 0.0540 - acc: 0.9793 - val_loss: 0.1692 - val_acc: 0.9557\n",
      "\n",
      "Epoch 00096: val_acc did not improve from 0.95877\n",
      "Epoch 97/1000\n",
      "4890/4890 [==============================] - 2s 507us/step - loss: 0.0427 - acc: 0.9832 - val_loss: 0.1612 - val_acc: 0.9569\n",
      "\n",
      "Epoch 00097: val_acc did not improve from 0.95877\n",
      "Epoch 00097: early stopping\n"
     ]
    }
   ],
   "source": [
    "es = EarlyStopping(monitor='val_loss', mode='min', verbose=verbose, patience=50)\n",
    "\n",
    "mc = ModelCheckpoint('.\\\\data\\\\data\\\\best_model_resnet_60.h5', monitor='val_acc', mode='max', verbose=verbose,\n",
    "                     save_best_only=True)\n",
    "\n",
    "history_resnet = model_resnet.fit(X_train, y_train, epochs = 1000, \n",
    "          validation_data = (X_val, y_val), \n",
    "          batch_size = batch_size, verbose=verbose,\n",
    "                   callbacks=[es, mc])"
   ]
  },
  {
   "cell_type": "code",
   "execution_count": 36,
   "metadata": {},
   "outputs": [],
   "source": [
    "saved_model_resnet = load_model('.\\\\data\\\\data\\\\best_model_resnet_60.h5')"
   ]
  },
  {
   "cell_type": "code",
   "execution_count": 37,
   "metadata": {
    "colab": {},
    "colab_type": "code",
    "id": "lfYZDbZtQvMS"
   },
   "outputs": [],
   "source": [
    "y_pred_resnet = np.argmax(saved_model_resnet.predict(X_test), axis=1)"
   ]
  },
  {
   "cell_type": "code",
   "execution_count": 38,
   "metadata": {},
   "outputs": [
    {
     "name": "stdout",
     "output_type": "stream",
     "text": [
      "1625/1625 [==============================] - 0s 241us/sample - loss: 0.1354 - acc: 0.9557\n"
     ]
    },
    {
     "data": {
      "text/plain": [
       "0.9556923"
      ]
     },
     "execution_count": 38,
     "metadata": {},
     "output_type": "execute_result"
    }
   ],
   "source": [
    "_, accuracy_resnet = saved_model_resnet.evaluate(X_test, y_test, batch_size=batch_size, verbose=1)\n",
    "accuracy_resnet"
   ]
  },
  {
   "cell_type": "code",
   "execution_count": 39,
   "metadata": {
    "scrolled": true
   },
   "outputs": [
    {
     "name": "stdout",
     "output_type": "stream",
     "text": [
      "              precision    recall  f1-score   support\n",
      "\n",
      "     cycling     0.9475    0.9446    0.9461       325\n",
      "     driving     0.9414    0.8892    0.9146       325\n",
      "     jogging     0.9969    0.9969    0.9969       325\n",
      "    sleeping     0.9585    0.9938    0.9758       325\n",
      "     walking     0.9337    0.9538    0.9437       325\n",
      "\n",
      "    accuracy                         0.9557      1625\n",
      "   macro avg     0.9556    0.9557    0.9554      1625\n",
      "weighted avg     0.9556    0.9557    0.9554      1625\n",
      "\n"
     ]
    }
   ],
   "source": [
    "print(metrics.classification_report(np.argmax(y_test,axis=1), y_pred_resnet, target_names = activities, digits = 4))"
   ]
  },
  {
   "cell_type": "code",
   "execution_count": 40,
   "metadata": {},
   "outputs": [
    {
     "data": {
      "image/png": "[encoded data removed]",
      "text/plain": [
       "<Figure size 432x288 with 1 Axes>"
      ]
     },
     "metadata": {
      "needs_background": "light"
     },
     "output_type": "display_data"
    },
    {
     "data": {
      "image/png": "[encoded data removed]",
      "text/plain": [
       "<Figure size 432x288 with 1 Axes>"
      ]
     },
     "metadata": {
      "needs_background": "light"
     },
     "output_type": "display_data"
    }
   ],
   "source": [
    "acc = history_resnet.history['acc']\n",
    "\n",
    "val_acc = history_resnet.history['val_acc']\n",
    "loss = history_resnet.history['loss']\n",
    "val_loss = history_resnet.history['val_loss']\n",
    "\n",
    "epochs = range(1, len(acc) + 1)\n",
    "\n",
    "plt.plot(epochs, acc, 'bo', label='Training acc')\n",
    "plt.plot(epochs, val_acc, 'b', label='Validation acc')\n",
    "plt.title('Training and validation accuracy')\n",
    "plt.savefig('resnet60_graph'+str(1)+'.png')\n",
    "plt.legend()\n",
    "\n",
    "plt.figure()\n",
    "\n",
    "plt.plot(epochs, loss, 'bo', label='Training loss')\n",
    "plt.plot(epochs, val_loss, 'b', label='Validation loss')\n",
    "plt.title('Training and validation loss')\n",
    "plt.savefig('resnet60_graph'+str(2)+'.png')\n",
    "plt.legend()\n",
    "\n",
    "plt.show()"
   ]
  },
  {
   "cell_type": "code",
   "execution_count": 41,
   "metadata": {
    "colab": {},
    "colab_type": "code",
    "id": "tgNuz71ePy_Q"
   },
   "outputs": [],
   "source": [
    "results = open(\"accuracy_resnet60.txt\",\"w\")\n",
    "results.write(str(accuracy_resnet))\n",
    "results.close()"
   ]
  },
  {
   "cell_type": "markdown",
   "metadata": {},
   "source": [
    "---"
   ]
  },
  {
   "cell_type": "code",
   "execution_count": null,
   "metadata": {},
   "outputs": [],
   "source": []
  },
  {
   "cell_type": "code",
   "execution_count": null,
   "metadata": {},
   "outputs": [],
   "source": []
  },
  {
   "cell_type": "code",
   "execution_count": null,
   "metadata": {},
   "outputs": [],
   "source": []
  }
 ],
 "metadata": {
  "kernelspec": {
   "display_name": "Python 3",
   "language": "python",
   "name": "python3"
  },
  "language_info": {
   "codemirror_mode": {
    "name": "ipython",
    "version": 3
   },
   "file_extension": ".py",
   "mimetype": "text/x-python",
   "name": "python",
   "nbconvert_exporter": "python",
   "pygments_lexer": "ipython3",
   "version": "3.7.4"
  }
 },
 "nbformat": 4,
 "nbformat_minor": 4
}
