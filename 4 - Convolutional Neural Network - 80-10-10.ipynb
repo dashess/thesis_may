{
 "cells": [
  {
   "cell_type": "code",
   "execution_count": 1,
   "metadata": {},
   "outputs": [
    {
     "name": "stderr",
     "output_type": "stream",
     "text": [
      "Using TensorFlow backend.\n",
      "C:\\Users\\Guus\\Anaconda3\\envs\\PythonGPU\\lib\\site-packages\\tensorflow\\python\\framework\\dtypes.py:516: FutureWarning: Passing (type, 1) or '1type' as a synonym of type is deprecated; in a future version of numpy, it will be understood as (type, (1,)) / '(1,)type'.\n",
      "  _np_qint8 = np.dtype([(\"qint8\", np.int8, 1)])\n",
      "C:\\Users\\Guus\\Anaconda3\\envs\\PythonGPU\\lib\\site-packages\\tensorflow\\python\\framework\\dtypes.py:517: FutureWarning: Passing (type, 1) or '1type' as a synonym of type is deprecated; in a future version of numpy, it will be understood as (type, (1,)) / '(1,)type'.\n",
      "  _np_quint8 = np.dtype([(\"quint8\", np.uint8, 1)])\n",
      "C:\\Users\\Guus\\Anaconda3\\envs\\PythonGPU\\lib\\site-packages\\tensorflow\\python\\framework\\dtypes.py:518: FutureWarning: Passing (type, 1) or '1type' as a synonym of type is deprecated; in a future version of numpy, it will be understood as (type, (1,)) / '(1,)type'.\n",
      "  _np_qint16 = np.dtype([(\"qint16\", np.int16, 1)])\n",
      "C:\\Users\\Guus\\Anaconda3\\envs\\PythonGPU\\lib\\site-packages\\tensorflow\\python\\framework\\dtypes.py:519: FutureWarning: Passing (type, 1) or '1type' as a synonym of type is deprecated; in a future version of numpy, it will be understood as (type, (1,)) / '(1,)type'.\n",
      "  _np_quint16 = np.dtype([(\"quint16\", np.uint16, 1)])\n",
      "C:\\Users\\Guus\\Anaconda3\\envs\\PythonGPU\\lib\\site-packages\\tensorflow\\python\\framework\\dtypes.py:520: FutureWarning: Passing (type, 1) or '1type' as a synonym of type is deprecated; in a future version of numpy, it will be understood as (type, (1,)) / '(1,)type'.\n",
      "  _np_qint32 = np.dtype([(\"qint32\", np.int32, 1)])\n",
      "C:\\Users\\Guus\\Anaconda3\\envs\\PythonGPU\\lib\\site-packages\\tensorflow\\python\\framework\\dtypes.py:525: FutureWarning: Passing (type, 1) or '1type' as a synonym of type is deprecated; in a future version of numpy, it will be understood as (type, (1,)) / '(1,)type'.\n",
      "  np_resource = np.dtype([(\"resource\", np.ubyte, 1)])\n",
      "C:\\Users\\Guus\\Anaconda3\\envs\\PythonGPU\\lib\\site-packages\\tensorboard\\compat\\tensorflow_stub\\dtypes.py:541: FutureWarning: Passing (type, 1) or '1type' as a synonym of type is deprecated; in a future version of numpy, it will be understood as (type, (1,)) / '(1,)type'.\n",
      "  _np_qint8 = np.dtype([(\"qint8\", np.int8, 1)])\n",
      "C:\\Users\\Guus\\Anaconda3\\envs\\PythonGPU\\lib\\site-packages\\tensorboard\\compat\\tensorflow_stub\\dtypes.py:542: FutureWarning: Passing (type, 1) or '1type' as a synonym of type is deprecated; in a future version of numpy, it will be understood as (type, (1,)) / '(1,)type'.\n",
      "  _np_quint8 = np.dtype([(\"quint8\", np.uint8, 1)])\n",
      "C:\\Users\\Guus\\Anaconda3\\envs\\PythonGPU\\lib\\site-packages\\tensorboard\\compat\\tensorflow_stub\\dtypes.py:543: FutureWarning: Passing (type, 1) or '1type' as a synonym of type is deprecated; in a future version of numpy, it will be understood as (type, (1,)) / '(1,)type'.\n",
      "  _np_qint16 = np.dtype([(\"qint16\", np.int16, 1)])\n",
      "C:\\Users\\Guus\\Anaconda3\\envs\\PythonGPU\\lib\\site-packages\\tensorboard\\compat\\tensorflow_stub\\dtypes.py:544: FutureWarning: Passing (type, 1) or '1type' as a synonym of type is deprecated; in a future version of numpy, it will be understood as (type, (1,)) / '(1,)type'.\n",
      "  _np_quint16 = np.dtype([(\"quint16\", np.uint16, 1)])\n",
      "C:\\Users\\Guus\\Anaconda3\\envs\\PythonGPU\\lib\\site-packages\\tensorboard\\compat\\tensorflow_stub\\dtypes.py:545: FutureWarning: Passing (type, 1) or '1type' as a synonym of type is deprecated; in a future version of numpy, it will be understood as (type, (1,)) / '(1,)type'.\n",
      "  _np_qint32 = np.dtype([(\"qint32\", np.int32, 1)])\n",
      "C:\\Users\\Guus\\Anaconda3\\envs\\PythonGPU\\lib\\site-packages\\tensorboard\\compat\\tensorflow_stub\\dtypes.py:550: FutureWarning: Passing (type, 1) or '1type' as a synonym of type is deprecated; in a future version of numpy, it will be understood as (type, (1,)) / '(1,)type'.\n",
      "  np_resource = np.dtype([(\"resource\", np.ubyte, 1)])\n"
     ]
    }
   ],
   "source": [
    "import pandas as pd\n",
    "import numpy as np\n",
    "from matplotlib import pyplot as plt\n",
    "import os\n",
    "import pickle\n",
    "import keras.utils as utils\n",
    "from sklearn import metrics\n",
    "%matplotlib inline "
   ]
  },
  {
   "cell_type": "code",
   "execution_count": 2,
   "metadata": {},
   "outputs": [],
   "source": [
    "# cnn model\n",
    "from numpy import mean\n",
    "from numpy import std\n",
    "from numpy import dstack\n",
    "from pandas import read_csv\n",
    "from matplotlib import pyplot\n",
    "from keras.models import Sequential\n",
    "from keras.layers import Dense\n",
    "from keras.layers import Flatten\n",
    "from keras.layers import Dropout\n",
    "from keras.layers.convolutional import Conv1D\n",
    "from keras.layers.convolutional import MaxPooling1D\n",
    "from keras.utils import to_categorical"
   ]
  },
  {
   "cell_type": "markdown",
   "metadata": {},
   "source": [
    "## Loading Data"
   ]
  },
  {
   "cell_type": "code",
   "execution_count": 3,
   "metadata": {},
   "outputs": [],
   "source": [
    "filedir = \".\\\\data\\\\\"\n",
    "activities = ['cycling', 'driving', 'jogging', 'sleeping', 'walking']\n",
    "epoch_length = 360"
   ]
  },
  {
   "cell_type": "code",
   "execution_count": 4,
   "metadata": {},
   "outputs": [],
   "source": [
    "pickle_in = open(filedir+\"data\\\\data.pickle\",\"rb\")\n",
    "data_dict = pickle.load(pickle_in)\n",
    "pickle_in.close()"
   ]
  },
  {
   "cell_type": "code",
   "execution_count": 5,
   "metadata": {},
   "outputs": [],
   "source": [
    "X = data_dict[\"cnn_array\"]"
   ]
  },
  {
   "cell_type": "code",
   "execution_count": 6,
   "metadata": {},
   "outputs": [],
   "source": [
    "y = []\n",
    "for item in data_dict[\"label\"]:\n",
    "    #value = 0\n",
    "    if item == activities[0]:\n",
    "        y.append(0)\n",
    "    elif item == activities[1]:\n",
    "        y.append(1)\n",
    "    elif item == activities[2]:\n",
    "        y.append(2)\n",
    "    elif item == activities[3]:\n",
    "        y.append(3)\n",
    "    elif item == activities[4]:\n",
    "        y.append(4)"
   ]
  },
  {
   "cell_type": "markdown",
   "metadata": {},
   "source": [
    "## Train / Test Split 80/10/10"
   ]
  },
  {
   "cell_type": "code",
   "execution_count": 7,
   "metadata": {},
   "outputs": [],
   "source": [
    "test_size = int(int(X.shape[0] * 0.1) / len(set(y))) * len(set(y))"
   ]
  },
  {
   "cell_type": "code",
   "execution_count": 8,
   "metadata": {},
   "outputs": [],
   "source": [
    "from sklearn.model_selection import train_test_split\n",
    "X_data, X_test, y_data, y_test = train_test_split(X, y, test_size=test_size, random_state=4091988, stratify=y)"
   ]
  },
  {
   "cell_type": "code",
   "execution_count": 9,
   "metadata": {},
   "outputs": [],
   "source": [
    "X_train, X_val, y_train, y_val = train_test_split(X_data, y_data, test_size=test_size, random_state=4091988, stratify=y_data)"
   ]
  },
  {
   "cell_type": "code",
   "execution_count": 10,
   "metadata": {},
   "outputs": [],
   "source": [
    "y_train = utils.to_categorical(y_train)\n",
    "y_test = utils.to_categorical(y_test)\n",
    "y_val = utils.to_categorical(y_val)"
   ]
  },
  {
   "cell_type": "markdown",
   "metadata": {},
   "source": [
    "## Novel CNN"
   ]
  },
  {
   "cell_type": "code",
   "execution_count": 11,
   "metadata": {},
   "outputs": [],
   "source": [
    "n_timesteps, n_features, n_outputs = X_train.shape[1], X_train.shape[2], y_train.shape[1]"
   ]
  },
  {
   "cell_type": "code",
   "execution_count": 12,
   "metadata": {},
   "outputs": [],
   "source": [
    "verbose, epochs, batch_size = 1, 20, 32"
   ]
  },
  {
   "cell_type": "code",
   "execution_count": 13,
   "metadata": {},
   "outputs": [
    {
     "name": "stdout",
     "output_type": "stream",
     "text": [
      "WARNING:tensorflow:From C:\\Users\\Guus\\Anaconda3\\envs\\PythonGPU\\lib\\site-packages\\keras\\backend\\tensorflow_backend.py:517: The name tf.placeholder is deprecated. Please use tf.compat.v1.placeholder instead.\n",
      "\n",
      "WARNING:tensorflow:From C:\\Users\\Guus\\Anaconda3\\envs\\PythonGPU\\lib\\site-packages\\keras\\backend\\tensorflow_backend.py:4138: The name tf.random_uniform is deprecated. Please use tf.random.uniform instead.\n",
      "\n",
      "WARNING:tensorflow:From C:\\Users\\Guus\\Anaconda3\\envs\\PythonGPU\\lib\\site-packages\\keras\\backend\\tensorflow_backend.py:133: The name tf.placeholder_with_default is deprecated. Please use tf.compat.v1.placeholder_with_default instead.\n",
      "\n",
      "WARNING:tensorflow:From C:\\Users\\Guus\\Anaconda3\\envs\\PythonGPU\\lib\\site-packages\\keras\\backend\\tensorflow_backend.py:3445: calling dropout (from tensorflow.python.ops.nn_ops) with keep_prob is deprecated and will be removed in a future version.\n",
      "Instructions for updating:\n",
      "Please use `rate` instead of `keep_prob`. Rate should be set to `rate = 1 - keep_prob`.\n",
      "WARNING:tensorflow:From C:\\Users\\Guus\\Anaconda3\\envs\\PythonGPU\\lib\\site-packages\\keras\\backend\\tensorflow_backend.py:3976: The name tf.nn.max_pool is deprecated. Please use tf.nn.max_pool2d instead.\n",
      "\n",
      "WARNING:tensorflow:From C:\\Users\\Guus\\Anaconda3\\envs\\PythonGPU\\lib\\site-packages\\keras\\optimizers.py:790: The name tf.train.Optimizer is deprecated. Please use tf.compat.v1.train.Optimizer instead.\n",
      "\n",
      "WARNING:tensorflow:From C:\\Users\\Guus\\Anaconda3\\envs\\PythonGPU\\lib\\site-packages\\keras\\backend\\tensorflow_backend.py:3295: The name tf.log is deprecated. Please use tf.math.log instead.\n",
      "\n"
     ]
    }
   ],
   "source": [
    "## Model is from https://machinelearningmastery.com/cnn-models-for-human-activity-recognition-time-series-classification/\n",
    "model = Sequential()\n",
    "model.add(Conv1D(filters=64, kernel_size=3, activation='relu', input_shape=(n_timesteps,n_features)))\n",
    "model.add(Conv1D(filters=64, kernel_size=3, activation='relu'))\n",
    "model.add(Dropout(0.5))\n",
    "model.add(MaxPooling1D(pool_size=2))\n",
    "model.add(Flatten())\n",
    "model.add(Dense(100, activation='relu'))\n",
    "model.add(Dense(n_outputs, activation='softmax'))\n",
    "model.compile(loss='categorical_crossentropy', optimizer='adam', metrics=['accuracy'])"
   ]
  },
  {
   "cell_type": "code",
   "execution_count": 14,
   "metadata": {},
   "outputs": [
    {
     "name": "stdout",
     "output_type": "stream",
     "text": [
      "WARNING:tensorflow:From C:\\Users\\Guus\\Anaconda3\\envs\\PythonGPU\\lib\\site-packages\\tensorflow\\python\\ops\\math_grad.py:1250: add_dispatch_support.<locals>.wrapper (from tensorflow.python.ops.array_ops) is deprecated and will be removed in a future version.\n",
      "Instructions for updating:\n",
      "Use tf.where in 2.0, which has the same broadcast rule as np.where\n",
      "WARNING:tensorflow:From C:\\Users\\Guus\\Anaconda3\\envs\\PythonGPU\\lib\\site-packages\\keras\\backend\\tensorflow_backend.py:986: The name tf.assign_add is deprecated. Please use tf.compat.v1.assign_add instead.\n",
      "\n",
      "Train on 6520 samples, validate on 810 samples\n",
      "Epoch 1/20\n",
      "6520/6520 [==============================] - 3s 429us/step - loss: 0.4528 - acc: 0.8485 - val_loss: 0.3558 - val_acc: 0.9000\n",
      "Epoch 2/20\n",
      "6520/6520 [==============================] - 1s 105us/step - loss: 0.2819 - acc: 0.9121 - val_loss: 0.3273 - val_acc: 0.8988\n",
      "Epoch 3/20\n",
      "6520/6520 [==============================] - 1s 105us/step - loss: 0.2561 - acc: 0.9150 - val_loss: 0.2929 - val_acc: 0.8988\n",
      "Epoch 4/20\n",
      "6520/6520 [==============================] - 1s 106us/step - loss: 0.2299 - acc: 0.9245 - val_loss: 0.2936 - val_acc: 0.9012\n",
      "Epoch 5/20\n",
      "6520/6520 [==============================] - 1s 105us/step - loss: 0.2053 - acc: 0.9305 - val_loss: 0.2448 - val_acc: 0.9259\n",
      "Epoch 6/20\n",
      "6520/6520 [==============================] - 1s 105us/step - loss: 0.1943 - acc: 0.9314 - val_loss: 0.2597 - val_acc: 0.9148\n",
      "Epoch 7/20\n",
      "6520/6520 [==============================] - 1s 104us/step - loss: 0.1770 - acc: 0.9360 - val_loss: 0.2489 - val_acc: 0.9321\n",
      "Epoch 8/20\n",
      "6520/6520 [==============================] - 1s 105us/step - loss: 0.1697 - acc: 0.9405 - val_loss: 0.2455 - val_acc: 0.9185\n",
      "Epoch 9/20\n",
      "6520/6520 [==============================] - 1s 104us/step - loss: 0.1459 - acc: 0.9495 - val_loss: 0.2246 - val_acc: 0.9284\n",
      "Epoch 10/20\n",
      "6520/6520 [==============================] - 1s 105us/step - loss: 0.1357 - acc: 0.9531 - val_loss: 0.2362 - val_acc: 0.9173\n",
      "Epoch 11/20\n",
      "6520/6520 [==============================] - 1s 104us/step - loss: 0.1233 - acc: 0.9561 - val_loss: 0.2285 - val_acc: 0.9272\n",
      "Epoch 12/20\n",
      "6520/6520 [==============================] - 1s 105us/step - loss: 0.1178 - acc: 0.9604 - val_loss: 0.2823 - val_acc: 0.9049\n",
      "Epoch 13/20\n",
      "6520/6520 [==============================] - 1s 104us/step - loss: 0.1219 - acc: 0.9589 - val_loss: 0.2350 - val_acc: 0.9247\n",
      "Epoch 14/20\n",
      "6520/6520 [==============================] - 1s 103us/step - loss: 0.0971 - acc: 0.9666 - val_loss: 0.2544 - val_acc: 0.9111\n",
      "Epoch 15/20\n",
      "6520/6520 [==============================] - 1s 105us/step - loss: 0.0782 - acc: 0.9733 - val_loss: 0.2409 - val_acc: 0.9272\n",
      "Epoch 16/20\n",
      "6520/6520 [==============================] - 1s 106us/step - loss: 0.0993 - acc: 0.9650 - val_loss: 0.2410 - val_acc: 0.9136\n",
      "Epoch 17/20\n",
      "6520/6520 [==============================] - 1s 105us/step - loss: 0.0915 - acc: 0.9701 - val_loss: 0.2203 - val_acc: 0.9235\n",
      "Epoch 18/20\n",
      "6520/6520 [==============================] - 1s 106us/step - loss: 0.0813 - acc: 0.9710 - val_loss: 0.2760 - val_acc: 0.9173\n",
      "Epoch 19/20\n",
      "6520/6520 [==============================] - 1s 104us/step - loss: 0.0839 - acc: 0.9730 - val_loss: 0.2929 - val_acc: 0.9136\n",
      "Epoch 20/20\n",
      "6520/6520 [==============================] - 1s 106us/step - loss: 0.0697 - acc: 0.9755 - val_loss: 0.2924 - val_acc: 0.9173\n"
     ]
    },
    {
     "data": {
      "text/plain": [
       "<keras.callbacks.History at 0x173f2b11908>"
      ]
     },
     "execution_count": 14,
     "metadata": {},
     "output_type": "execute_result"
    }
   ],
   "source": [
    "model.fit(X_train, y_train, epochs = epochs, \n",
    "          validation_data = (X_val, y_val), \n",
    "          batch_size = batch_size, verbose=verbose)"
   ]
  },
  {
   "cell_type": "code",
   "execution_count": 15,
   "metadata": {},
   "outputs": [
    {
     "data": {
      "text/plain": [
       "0.9172839503229401"
      ]
     },
     "execution_count": 15,
     "metadata": {},
     "output_type": "execute_result"
    }
   ],
   "source": [
    "_, accuracy = model.evaluate(X_test, y_test, batch_size=batch_size, verbose=0)\n",
    "accuracy"
   ]
  },
  {
   "cell_type": "code",
   "execution_count": 16,
   "metadata": {},
   "outputs": [],
   "source": [
    "results = open(\"accuracy_base80.txt\",\"w\")\n",
    "results.write(str(accuracy))\n",
    "results.close()"
   ]
  },
  {
   "cell_type": "code",
   "execution_count": 17,
   "metadata": {},
   "outputs": [],
   "source": [
    "y_pred = model.predict_classes(X_test)"
   ]
  },
  {
   "cell_type": "code",
   "execution_count": 18,
   "metadata": {},
   "outputs": [
    {
     "name": "stdout",
     "output_type": "stream",
     "text": [
      "              precision    recall  f1-score   support\n",
      "\n",
      "     cycling     0.8779    0.9321    0.9042       162\n",
      "     driving     0.8043    0.9136    0.8555       162\n",
      "     jogging     0.9759    1.0000    0.9878       162\n",
      "    sleeping     1.0000    0.9259    0.9615       162\n",
      "     walking     0.9565    0.8148    0.8800       162\n",
      "\n",
      "    accuracy                         0.9173       810\n",
      "   macro avg     0.9229    0.9173    0.9178       810\n",
      "weighted avg     0.9229    0.9173    0.9178       810\n",
      "\n"
     ]
    }
   ],
   "source": [
    "print(metrics.classification_report(np.argmax(y_test,axis=1), y_pred, target_names = activities, digits = 4))"
   ]
  },
  {
   "cell_type": "code",
   "execution_count": 19,
   "metadata": {},
   "outputs": [
    {
     "name": "stdout",
     "output_type": "stream",
     "text": [
      "Confusion matrix:\n",
      "[[151   8   0   0   3]\n",
      " [ 11 148   0   0   3]\n",
      " [  0   0 162   0   0]\n",
      " [  3   9   0 150   0]\n",
      " [  7  19   4   0 132]]\n"
     ]
    }
   ],
   "source": [
    "print(\"Confusion matrix:\\n%s\" % metrics.confusion_matrix(np.argmax(y_test,axis=1), y_pred))"
   ]
  },
  {
   "cell_type": "markdown",
   "metadata": {},
   "source": [
    "---"
   ]
  },
  {
   "cell_type": "markdown",
   "metadata": {},
   "source": [
    "## Novel + Tuning Parameters"
   ]
  },
  {
   "cell_type": "code",
   "execution_count": 20,
   "metadata": {},
   "outputs": [],
   "source": [
    "from tensorflow.keras import backend as K\n",
    "from tensorflow.keras.callbacks import EarlyStopping\n",
    "from tensorflow.keras.callbacks import ModelCheckpoint"
   ]
  },
  {
   "cell_type": "code",
   "execution_count": 21,
   "metadata": {},
   "outputs": [],
   "source": [
    "from keras import backend as K\n",
    "from keras.callbacks import EarlyStopping\n",
    "from keras.callbacks import ModelCheckpoint\n",
    "from tensorflow.keras.models import load_model"
   ]
  },
  {
   "cell_type": "code",
   "execution_count": 22,
   "metadata": {},
   "outputs": [],
   "source": [
    "verbose, epochs, batch_size = 1, 1000, 64"
   ]
  },
  {
   "cell_type": "code",
   "execution_count": 23,
   "metadata": {},
   "outputs": [],
   "source": [
    "## Model is from https://machinelearningmastery.com/cnn-models-for-human-activity-recognition-time-series-classification/\n",
    "model_novel = Sequential()\n",
    "model_novel.add(Conv1D(filters=64, kernel_size=3, activation='relu', input_shape=(n_timesteps,n_features)))\n",
    "model_novel.add(Conv1D(filters=64, kernel_size=3, activation='relu'))\n",
    "model_novel.add(Dropout(0.5))\n",
    "model_novel.add(MaxPooling1D(pool_size=2))\n",
    "model_novel.add(Flatten())\n",
    "model_novel.add(Dense(100, activation='relu'))\n",
    "model_novel.add(Dense(n_outputs, activation='softmax'))\n",
    "model_novel.compile(loss='categorical_crossentropy', optimizer='adam', metrics=['acc'])"
   ]
  },
  {
   "cell_type": "code",
   "execution_count": 24,
   "metadata": {},
   "outputs": [
    {
     "name": "stdout",
     "output_type": "stream",
     "text": [
      "Train on 6520 samples, validate on 810 samples\n",
      "Epoch 1/1000\n",
      "6520/6520 [==============================] - 1s 118us/step - loss: 0.5248 - acc: 0.8190 - val_loss: 0.4521 - val_acc: 0.8160\n",
      "\n",
      "Epoch 00001: val_acc improved from -inf to 0.81605, saving model to .\\data\\data\\best_model_novel_80.h5\n",
      "Epoch 2/1000\n",
      "6520/6520 [==============================] - 0s 65us/step - loss: 0.3074 - acc: 0.8991 - val_loss: 0.3446 - val_acc: 0.9123\n",
      "\n",
      "Epoch 00002: val_acc improved from 0.81605 to 0.91235, saving model to .\\data\\data\\best_model_novel_80.h5\n",
      "Epoch 3/1000\n",
      "6520/6520 [==============================] - 0s 64us/step - loss: 0.2726 - acc: 0.9107 - val_loss: 0.2886 - val_acc: 0.9086\n",
      "\n",
      "Epoch 00003: val_acc did not improve from 0.91235\n",
      "Epoch 4/1000\n",
      "6520/6520 [==============================] - 0s 64us/step - loss: 0.2435 - acc: 0.9198 - val_loss: 0.3110 - val_acc: 0.9062\n",
      "\n",
      "Epoch 00004: val_acc did not improve from 0.91235\n",
      "Epoch 5/1000\n",
      "6520/6520 [==============================] - 0s 63us/step - loss: 0.2324 - acc: 0.9207 - val_loss: 0.2732 - val_acc: 0.9247\n",
      "\n",
      "Epoch 00005: val_acc improved from 0.91235 to 0.92469, saving model to .\\data\\data\\best_model_novel_80.h5\n",
      "Epoch 6/1000\n",
      "6520/6520 [==============================] - 0s 64us/step - loss: 0.2026 - acc: 0.9311 - val_loss: 0.2580 - val_acc: 0.9086\n",
      "\n",
      "Epoch 00006: val_acc did not improve from 0.92469\n",
      "Epoch 7/1000\n",
      "6520/6520 [==============================] - 0s 64us/step - loss: 0.1916 - acc: 0.9370 - val_loss: 0.2529 - val_acc: 0.9148\n",
      "\n",
      "Epoch 00007: val_acc did not improve from 0.92469\n",
      "Epoch 8/1000\n",
      "6520/6520 [==============================] - 0s 64us/step - loss: 0.1706 - acc: 0.9434 - val_loss: 0.2536 - val_acc: 0.9123\n",
      "\n",
      "Epoch 00008: val_acc did not improve from 0.92469\n",
      "Epoch 9/1000\n",
      "6520/6520 [==============================] - 0s 65us/step - loss: 0.1497 - acc: 0.9479 - val_loss: 0.2742 - val_acc: 0.9173\n",
      "\n",
      "Epoch 00009: val_acc did not improve from 0.92469\n",
      "Epoch 10/1000\n",
      "6520/6520 [==============================] - 0s 64us/step - loss: 0.1650 - acc: 0.9426 - val_loss: 0.2559 - val_acc: 0.9148\n",
      "\n",
      "Epoch 00010: val_acc did not improve from 0.92469\n",
      "Epoch 11/1000\n",
      "6520/6520 [==============================] - 0s 65us/step - loss: 0.1368 - acc: 0.9515 - val_loss: 0.2597 - val_acc: 0.9160\n",
      "\n",
      "Epoch 00011: val_acc did not improve from 0.92469\n",
      "Epoch 12/1000\n",
      "6520/6520 [==============================] - 0s 64us/step - loss: 0.1227 - acc: 0.9560 - val_loss: 0.2379 - val_acc: 0.9247\n",
      "\n",
      "Epoch 00012: val_acc did not improve from 0.92469\n",
      "Epoch 13/1000\n",
      "6520/6520 [==============================] - 0s 65us/step - loss: 0.1150 - acc: 0.9583 - val_loss: 0.2740 - val_acc: 0.9222\n",
      "\n",
      "Epoch 00013: val_acc did not improve from 0.92469\n",
      "Epoch 14/1000\n",
      "6520/6520 [==============================] - 0s 65us/step - loss: 0.1109 - acc: 0.9604 - val_loss: 0.2989 - val_acc: 0.9173\n",
      "\n",
      "Epoch 00014: val_acc did not improve from 0.92469\n",
      "Epoch 15/1000\n",
      "6520/6520 [==============================] - 0s 65us/step - loss: 0.1181 - acc: 0.9590 - val_loss: 0.3238 - val_acc: 0.9000\n",
      "\n",
      "Epoch 00015: val_acc did not improve from 0.92469\n",
      "Epoch 16/1000\n",
      "6520/6520 [==============================] - 0s 65us/step - loss: 0.1065 - acc: 0.9630 - val_loss: 0.2654 - val_acc: 0.9222\n",
      "\n",
      "Epoch 00016: val_acc did not improve from 0.92469\n",
      "Epoch 17/1000\n",
      "6520/6520 [==============================] - 0s 66us/step - loss: 0.0938 - acc: 0.9693 - val_loss: 0.2938 - val_acc: 0.9222\n",
      "\n",
      "Epoch 00017: val_acc did not improve from 0.92469\n",
      "Epoch 18/1000\n",
      "6520/6520 [==============================] - 0s 65us/step - loss: 0.0873 - acc: 0.9683 - val_loss: 0.2720 - val_acc: 0.9160\n",
      "\n",
      "Epoch 00018: val_acc did not improve from 0.92469\n",
      "Epoch 19/1000\n",
      "6520/6520 [==============================] - 0s 65us/step - loss: 0.0884 - acc: 0.9684 - val_loss: 0.3163 - val_acc: 0.9086\n",
      "\n",
      "Epoch 00019: val_acc did not improve from 0.92469\n",
      "Epoch 20/1000\n",
      "6520/6520 [==============================] - 0s 65us/step - loss: 0.0773 - acc: 0.9730 - val_loss: 0.3198 - val_acc: 0.9062\n",
      "\n",
      "Epoch 00020: val_acc did not improve from 0.92469\n",
      "Epoch 21/1000\n",
      "6520/6520 [==============================] - 0s 65us/step - loss: 0.0878 - acc: 0.9701 - val_loss: 0.2736 - val_acc: 0.9235\n",
      "\n",
      "Epoch 00021: val_acc did not improve from 0.92469\n",
      "Epoch 22/1000\n",
      "6520/6520 [==============================] - 0s 65us/step - loss: 0.0932 - acc: 0.9670 - val_loss: 0.2863 - val_acc: 0.9284\n",
      "\n",
      "Epoch 00022: val_acc improved from 0.92469 to 0.92840, saving model to .\\data\\data\\best_model_novel_80.h5\n",
      "Epoch 23/1000\n",
      "6520/6520 [==============================] - 0s 64us/step - loss: 0.0757 - acc: 0.9741 - val_loss: 0.2859 - val_acc: 0.9198\n",
      "\n",
      "Epoch 00023: val_acc did not improve from 0.92840\n",
      "Epoch 24/1000\n",
      "6520/6520 [==============================] - 0s 64us/step - loss: 0.0738 - acc: 0.9773 - val_loss: 0.3130 - val_acc: 0.9111\n",
      "\n",
      "Epoch 00024: val_acc did not improve from 0.92840\n",
      "Epoch 25/1000\n",
      "6520/6520 [==============================] - 0s 64us/step - loss: 0.0815 - acc: 0.9721 - val_loss: 0.2717 - val_acc: 0.9235\n",
      "\n",
      "Epoch 00025: val_acc did not improve from 0.92840\n",
      "Epoch 26/1000\n",
      "6520/6520 [==============================] - 0s 65us/step - loss: 0.0642 - acc: 0.9787 - val_loss: 0.2867 - val_acc: 0.9259\n",
      "\n",
      "Epoch 00026: val_acc did not improve from 0.92840\n",
      "Epoch 27/1000\n",
      "6520/6520 [==============================] - 0s 64us/step - loss: 0.0572 - acc: 0.9781 - val_loss: 0.2541 - val_acc: 0.9333\n",
      "\n",
      "Epoch 00027: val_acc improved from 0.92840 to 0.93333, saving model to .\\data\\data\\best_model_novel_80.h5\n",
      "Epoch 28/1000\n",
      "6520/6520 [==============================] - 0s 64us/step - loss: 0.0553 - acc: 0.9814 - val_loss: 0.3108 - val_acc: 0.9210\n",
      "\n",
      "Epoch 00028: val_acc did not improve from 0.93333\n",
      "Epoch 29/1000\n",
      "6520/6520 [==============================] - 0s 64us/step - loss: 0.0582 - acc: 0.9816 - val_loss: 0.3142 - val_acc: 0.9185\n",
      "\n",
      "Epoch 00029: val_acc did not improve from 0.93333\n",
      "Epoch 30/1000\n",
      "6520/6520 [==============================] - 0s 63us/step - loss: 0.0471 - acc: 0.9836 - val_loss: 0.3077 - val_acc: 0.9136\n",
      "\n",
      "Epoch 00030: val_acc did not improve from 0.93333\n",
      "Epoch 31/1000\n",
      "6520/6520 [==============================] - 0s 63us/step - loss: 0.0502 - acc: 0.9828 - val_loss: 0.3605 - val_acc: 0.9160\n",
      "\n",
      "Epoch 00031: val_acc did not improve from 0.93333\n",
      "Epoch 32/1000\n",
      "6520/6520 [==============================] - 0s 64us/step - loss: 0.0664 - acc: 0.9782 - val_loss: 0.3089 - val_acc: 0.9160\n",
      "\n",
      "Epoch 00032: val_acc did not improve from 0.93333\n",
      "Epoch 33/1000\n",
      "6520/6520 [==============================] - 0s 63us/step - loss: 0.0618 - acc: 0.9799 - val_loss: 0.3398 - val_acc: 0.9049\n",
      "\n",
      "Epoch 00033: val_acc did not improve from 0.93333\n",
      "Epoch 34/1000\n",
      "6520/6520 [==============================] - 0s 63us/step - loss: 0.0494 - acc: 0.9831 - val_loss: 0.2869 - val_acc: 0.9173\n",
      "\n",
      "Epoch 00034: val_acc did not improve from 0.93333\n",
      "Epoch 35/1000\n",
      "6520/6520 [==============================] - 0s 63us/step - loss: 0.0419 - acc: 0.9862 - val_loss: 0.3513 - val_acc: 0.9111\n",
      "\n",
      "Epoch 00035: val_acc did not improve from 0.93333\n",
      "Epoch 36/1000\n",
      "6520/6520 [==============================] - 0s 63us/step - loss: 0.0786 - acc: 0.9739 - val_loss: 0.3436 - val_acc: 0.9160\n",
      "\n",
      "Epoch 00036: val_acc did not improve from 0.93333\n",
      "Epoch 37/1000\n",
      "6520/6520 [==============================] - 0s 64us/step - loss: 0.0451 - acc: 0.9847 - val_loss: 0.3356 - val_acc: 0.9173\n",
      "\n",
      "Epoch 00037: val_acc did not improve from 0.93333\n",
      "Epoch 38/1000\n",
      "6520/6520 [==============================] - 0s 64us/step - loss: 0.0380 - acc: 0.9868 - val_loss: 0.3174 - val_acc: 0.9198\n",
      "\n",
      "Epoch 00038: val_acc did not improve from 0.93333\n",
      "Epoch 39/1000\n",
      "6520/6520 [==============================] - 0s 63us/step - loss: 0.0392 - acc: 0.9867 - val_loss: 0.3612 - val_acc: 0.9136\n",
      "\n",
      "Epoch 00039: val_acc did not improve from 0.93333\n",
      "Epoch 40/1000\n",
      "6520/6520 [==============================] - 0s 64us/step - loss: 0.0431 - acc: 0.9880 - val_loss: 0.3838 - val_acc: 0.9136\n",
      "\n",
      "Epoch 00040: val_acc did not improve from 0.93333\n",
      "Epoch 41/1000\n",
      "6520/6520 [==============================] - 0s 64us/step - loss: 0.0513 - acc: 0.9819 - val_loss: 0.3610 - val_acc: 0.9148\n",
      "\n",
      "Epoch 00041: val_acc did not improve from 0.93333\n",
      "Epoch 42/1000\n",
      "6520/6520 [==============================] - 0s 62us/step - loss: 0.0375 - acc: 0.9890 - val_loss: 0.3108 - val_acc: 0.9259\n"
     ]
    },
    {
     "name": "stdout",
     "output_type": "stream",
     "text": [
      "\n",
      "Epoch 00042: val_acc did not improve from 0.93333\n",
      "Epoch 43/1000\n",
      "6520/6520 [==============================] - 0s 63us/step - loss: 0.0372 - acc: 0.9879 - val_loss: 0.3546 - val_acc: 0.9160\n",
      "\n",
      "Epoch 00043: val_acc did not improve from 0.93333\n",
      "Epoch 44/1000\n",
      "6520/6520 [==============================] - 0s 63us/step - loss: 0.0313 - acc: 0.9906 - val_loss: 0.3445 - val_acc: 0.9185\n",
      "\n",
      "Epoch 00044: val_acc did not improve from 0.93333\n",
      "Epoch 45/1000\n",
      "6520/6520 [==============================] - 0s 64us/step - loss: 0.0388 - acc: 0.9860 - val_loss: 0.3906 - val_acc: 0.9222\n",
      "\n",
      "Epoch 00045: val_acc did not improve from 0.93333\n",
      "Epoch 46/1000\n",
      "6520/6520 [==============================] - 0s 64us/step - loss: 0.0394 - acc: 0.9867 - val_loss: 0.3474 - val_acc: 0.9210\n",
      "\n",
      "Epoch 00046: val_acc did not improve from 0.93333\n",
      "Epoch 47/1000\n",
      "6520/6520 [==============================] - 0s 64us/step - loss: 0.0391 - acc: 0.9850 - val_loss: 0.3238 - val_acc: 0.9160\n",
      "\n",
      "Epoch 00047: val_acc did not improve from 0.93333\n",
      "Epoch 48/1000\n",
      "6520/6520 [==============================] - 0s 63us/step - loss: 0.0364 - acc: 0.9879 - val_loss: 0.3825 - val_acc: 0.9185\n",
      "\n",
      "Epoch 00048: val_acc did not improve from 0.93333\n",
      "Epoch 49/1000\n",
      "6520/6520 [==============================] - 0s 64us/step - loss: 0.0399 - acc: 0.9865 - val_loss: 0.3337 - val_acc: 0.9198\n",
      "\n",
      "Epoch 00049: val_acc did not improve from 0.93333\n",
      "Epoch 50/1000\n",
      "6520/6520 [==============================] - 0s 63us/step - loss: 0.0382 - acc: 0.9874 - val_loss: 0.3697 - val_acc: 0.9173\n",
      "\n",
      "Epoch 00050: val_acc did not improve from 0.93333\n",
      "Epoch 51/1000\n",
      "6520/6520 [==============================] - 0s 63us/step - loss: 0.0389 - acc: 0.9862 - val_loss: 0.3608 - val_acc: 0.9148\n",
      "\n",
      "Epoch 00051: val_acc did not improve from 0.93333\n",
      "Epoch 52/1000\n",
      "6520/6520 [==============================] - 0s 64us/step - loss: 0.0404 - acc: 0.9868 - val_loss: 0.3332 - val_acc: 0.9333\n",
      "\n",
      "Epoch 00052: val_acc did not improve from 0.93333\n",
      "Epoch 53/1000\n",
      "6520/6520 [==============================] - 0s 63us/step - loss: 0.0285 - acc: 0.9899 - val_loss: 0.2935 - val_acc: 0.9272\n",
      "\n",
      "Epoch 00053: val_acc did not improve from 0.93333\n",
      "Epoch 54/1000\n",
      "6520/6520 [==============================] - 0s 63us/step - loss: 0.0386 - acc: 0.9873 - val_loss: 0.3411 - val_acc: 0.9185\n",
      "\n",
      "Epoch 00054: val_acc did not improve from 0.93333\n",
      "Epoch 55/1000\n",
      "6520/6520 [==============================] - 0s 64us/step - loss: 0.0375 - acc: 0.9871 - val_loss: 0.3189 - val_acc: 0.9210\n",
      "\n",
      "Epoch 00055: val_acc did not improve from 0.93333\n",
      "Epoch 56/1000\n",
      "6520/6520 [==============================] - 0s 64us/step - loss: 0.0316 - acc: 0.9905 - val_loss: 0.4009 - val_acc: 0.9235\n",
      "\n",
      "Epoch 00056: val_acc did not improve from 0.93333\n",
      "Epoch 57/1000\n",
      "6520/6520 [==============================] - 0s 64us/step - loss: 0.0245 - acc: 0.9911 - val_loss: 0.3671 - val_acc: 0.9198\n",
      "\n",
      "Epoch 00057: val_acc did not improve from 0.93333\n",
      "Epoch 58/1000\n",
      "6520/6520 [==============================] - 0s 64us/step - loss: 0.0258 - acc: 0.9910 - val_loss: 0.3937 - val_acc: 0.9210\n",
      "\n",
      "Epoch 00058: val_acc did not improve from 0.93333\n",
      "Epoch 59/1000\n",
      "6520/6520 [==============================] - 0s 63us/step - loss: 0.0334 - acc: 0.9897 - val_loss: 0.4870 - val_acc: 0.9123\n",
      "\n",
      "Epoch 00059: val_acc did not improve from 0.93333\n",
      "Epoch 60/1000\n",
      "6520/6520 [==============================] - 0s 64us/step - loss: 0.0268 - acc: 0.9920 - val_loss: 0.4233 - val_acc: 0.9148\n",
      "\n",
      "Epoch 00060: val_acc did not improve from 0.93333\n",
      "Epoch 61/1000\n",
      "6520/6520 [==============================] - 0s 64us/step - loss: 0.0260 - acc: 0.9908 - val_loss: 0.3839 - val_acc: 0.9222\n",
      "\n",
      "Epoch 00061: val_acc did not improve from 0.93333\n",
      "Epoch 62/1000\n",
      "6520/6520 [==============================] - 0s 64us/step - loss: 0.0273 - acc: 0.9902 - val_loss: 0.3742 - val_acc: 0.9222\n",
      "\n",
      "Epoch 00062: val_acc did not improve from 0.93333\n",
      "Epoch 00062: early stopping\n"
     ]
    }
   ],
   "source": [
    "es = EarlyStopping(monitor='val_loss', mode='min', verbose=verbose, patience=50)\n",
    "\n",
    "mc = ModelCheckpoint('.\\\\data\\\\data\\\\best_model_novel_80.h5', monitor='val_acc', mode='max', verbose=verbose,\n",
    "                     save_best_only=True)\n",
    "\n",
    "history_novel = model_novel.fit(X_train, y_train, epochs = epochs, \n",
    "          validation_data = (X_val, y_val), \n",
    "          batch_size = batch_size, verbose=verbose,\n",
    "                   callbacks=[es, mc])"
   ]
  },
  {
   "cell_type": "code",
   "execution_count": 25,
   "metadata": {},
   "outputs": [],
   "source": [
    "saved_model_novel = load_model('.\\\\data\\\\data\\\\best_model_novel_80.h5')"
   ]
  },
  {
   "cell_type": "code",
   "execution_count": 26,
   "metadata": {
    "colab": {},
    "colab_type": "code",
    "id": "lfYZDbZtQvMS"
   },
   "outputs": [],
   "source": [
    "y_pred_novel = saved_model_novel.predict_classes(X_test)"
   ]
  },
  {
   "cell_type": "code",
   "execution_count": 27,
   "metadata": {},
   "outputs": [
    {
     "name": "stdout",
     "output_type": "stream",
     "text": [
      "810/810 [==============================] - 0s 74us/sample - loss: 0.3952 - acc: 0.9272\n"
     ]
    },
    {
     "data": {
      "text/plain": [
       "0.9271605"
      ]
     },
     "execution_count": 27,
     "metadata": {},
     "output_type": "execute_result"
    }
   ],
   "source": [
    "_, accuracy_novel = saved_model_novel.evaluate(X_test, y_test, batch_size=batch_size, verbose=1)\n",
    "accuracy_novel"
   ]
  },
  {
   "cell_type": "code",
   "execution_count": 28,
   "metadata": {
    "scrolled": true
   },
   "outputs": [
    {
     "name": "stdout",
     "output_type": "stream",
     "text": [
      "              precision    recall  f1-score   support\n",
      "\n",
      "     cycling     0.9286    0.8827    0.9051       162\n",
      "     driving     0.8197    0.9259    0.8696       162\n",
      "     jogging     0.9701    1.0000    0.9848       162\n",
      "    sleeping     0.9936    0.9630    0.9781       162\n",
      "     walking     0.9396    0.8642    0.9003       162\n",
      "\n",
      "    accuracy                         0.9272       810\n",
      "   macro avg     0.9303    0.9272    0.9276       810\n",
      "weighted avg     0.9303    0.9272    0.9276       810\n",
      "\n"
     ]
    }
   ],
   "source": [
    "print(metrics.classification_report(np.argmax(y_test,axis=1), y_pred_novel, target_names = activities, digits = 4))"
   ]
  },
  {
   "cell_type": "code",
   "execution_count": 29,
   "metadata": {},
   "outputs": [
    {
     "name": "stdout",
     "output_type": "stream",
     "text": [
      "Confusion matrix:\n",
      "[[143  16   0   0   3]\n",
      " [  5 150   1   1   5]\n",
      " [  0   0 162   0   0]\n",
      " [  0   5   0 156   1]\n",
      " [  6  12   4   0 140]]\n"
     ]
    }
   ],
   "source": [
    "print(\"Confusion matrix:\\n%s\" % metrics.confusion_matrix(np.argmax(y_test,axis=1), y_pred_novel))"
   ]
  },
  {
   "cell_type": "code",
   "execution_count": 30,
   "metadata": {
    "colab": {},
    "colab_type": "code",
    "id": "tgNuz71ePy_Q"
   },
   "outputs": [],
   "source": [
    "results = open(\"accuracy_novel80.txt\",\"w\")\n",
    "results.write(str(accuracy_novel))\n",
    "results.close()"
   ]
  },
  {
   "cell_type": "code",
   "execution_count": 31,
   "metadata": {
    "colab": {},
    "colab_type": "code",
    "id": "zxKnT3FMDCDG",
    "scrolled": true
   },
   "outputs": [
    {
     "data": {
      "image/png": "[encoded data removed]",
      "text/plain": [
       "<Figure size 432x288 with 1 Axes>"
      ]
     },
     "metadata": {
      "needs_background": "light"
     },
     "output_type": "display_data"
    },
    {
     "data": {
      "image/png": "[encoded data removed]",
      "text/plain": [
       "<Figure size 432x288 with 1 Axes>"
      ]
     },
     "metadata": {
      "needs_background": "light"
     },
     "output_type": "display_data"
    }
   ],
   "source": [
    "acc = history_novel.history['acc']\n",
    "\n",
    "val_acc = history_novel.history['val_acc']\n",
    "loss = history_novel.history['loss']\n",
    "val_loss = history_novel.history['val_loss']\n",
    "\n",
    "epochs = range(1, len(acc) + 1)\n",
    "\n",
    "plt.plot(epochs, acc, 'bo', label='Training acc')\n",
    "plt.plot(epochs, val_acc, 'b', label='Validation acc')\n",
    "plt.title('Training and validation accuracy')\n",
    "plt.savefig('novel80_graph'+str(1)+'.png')\n",
    "plt.legend()\n",
    "\n",
    "plt.figure()\n",
    "\n",
    "plt.plot(epochs, loss, 'bo', label='Training loss')\n",
    "plt.plot(epochs, val_loss, 'b', label='Validation loss')\n",
    "plt.title('Training and validation loss')\n",
    "plt.savefig('novel80_graph'+str(2)+'.png')\n",
    "plt.legend()\n",
    "\n",
    "plt.show()"
   ]
  },
  {
   "cell_type": "markdown",
   "metadata": {},
   "source": [
    "---"
   ]
  },
  {
   "cell_type": "markdown",
   "metadata": {},
   "source": [
    "## ResNet CNN Architecture"
   ]
  },
  {
   "cell_type": "code",
   "execution_count": 32,
   "metadata": {},
   "outputs": [],
   "source": [
    "import keras as keras\n",
    "import tensorflow as tf"
   ]
  },
  {
   "cell_type": "code",
   "execution_count": 33,
   "metadata": {},
   "outputs": [],
   "source": [
    "verbose, epochs, batch_size = 1, 1000, 64"
   ]
  },
  {
   "cell_type": "code",
   "execution_count": 34,
   "metadata": {},
   "outputs": [],
   "source": [
    "## Architecture is from https://github.com/hfawaz/dl-4-tsc/blob/master/classifiers/resnet.py\n",
    "n_feature_maps = 64\n",
    "\n",
    "input_layer = keras.layers.Input(shape = (n_timesteps,n_features))\n",
    "\n",
    "# BLOCK 1\n",
    "\n",
    "conv_x = keras.layers.Conv1D(filters=n_feature_maps, kernel_size=8, padding='same')(input_layer)\n",
    "conv_x = keras.layers.BatchNormalization()(conv_x)\n",
    "conv_x = keras.layers.Activation('relu')(conv_x)\n",
    "\n",
    "conv_y = keras.layers.Conv1D(filters=n_feature_maps, kernel_size=5, padding='same')(conv_x)\n",
    "conv_y = keras.layers.BatchNormalization()(conv_y)\n",
    "conv_y = keras.layers.Activation('relu')(conv_y)\n",
    "\n",
    "conv_z = keras.layers.Conv1D(filters=n_feature_maps, kernel_size=3, padding='same')(conv_y)\n",
    "conv_z = keras.layers.BatchNormalization()(conv_z)\n",
    "\n",
    "# expand channels for the sum\n",
    "shortcut_y = keras.layers.Conv1D(filters=n_feature_maps, kernel_size=1, padding='same')(input_layer)\n",
    "shortcut_y = keras.layers.BatchNormalization()(shortcut_y)\n",
    "\n",
    "output_block_1 = keras.layers.add([shortcut_y, conv_z])\n",
    "output_block_1 = keras.layers.Activation('relu')(output_block_1)\n",
    "\n",
    "# BLOCK 2\n",
    "\n",
    "conv_x = keras.layers.Conv1D(filters=n_feature_maps * 2, kernel_size=8, padding='same')(output_block_1)\n",
    "conv_x = keras.layers.BatchNormalization()(conv_x)\n",
    "conv_x = keras.layers.Activation('relu')(conv_x)\n",
    "\n",
    "conv_y = keras.layers.Conv1D(filters=n_feature_maps * 2, kernel_size=5, padding='same')(conv_x)\n",
    "conv_y = keras.layers.BatchNormalization()(conv_y)\n",
    "conv_y = keras.layers.Activation('relu')(conv_y)\n",
    "\n",
    "conv_z = keras.layers.Conv1D(filters=n_feature_maps * 2, kernel_size=3, padding='same')(conv_y)\n",
    "conv_z = keras.layers.BatchNormalization()(conv_z)\n",
    "\n",
    "# expand channels for the sum\n",
    "shortcut_y = keras.layers.Conv1D(filters=n_feature_maps * 2, kernel_size=1, padding='same')(output_block_1)\n",
    "shortcut_y = keras.layers.BatchNormalization()(shortcut_y)\n",
    "\n",
    "output_block_2 = keras.layers.add([shortcut_y, conv_z])\n",
    "output_block_2 = keras.layers.Activation('relu')(output_block_2)\n",
    "\n",
    "# BLOCK 3\n",
    "\n",
    "conv_x = keras.layers.Conv1D(filters=n_feature_maps * 2, kernel_size=8, padding='same')(output_block_2)\n",
    "conv_x = keras.layers.BatchNormalization()(conv_x)\n",
    "conv_x = keras.layers.Activation('relu')(conv_x)\n",
    "\n",
    "conv_y = keras.layers.Conv1D(filters=n_feature_maps * 2, kernel_size=5, padding='same')(conv_x)\n",
    "conv_y = keras.layers.BatchNormalization()(conv_y)\n",
    "conv_y = keras.layers.Activation('relu')(conv_y)\n",
    "\n",
    "conv_z = keras.layers.Conv1D(filters=n_feature_maps * 2, kernel_size=3, padding='same')(conv_y)\n",
    "conv_z = keras.layers.BatchNormalization()(conv_z)\n",
    "\n",
    "# no need to expand channels because they are equal\n",
    "shortcut_y = keras.layers.BatchNormalization()(output_block_2)\n",
    "\n",
    "output_block_3 = keras.layers.add([shortcut_y, conv_z])\n",
    "output_block_3 = keras.layers.Activation('relu')(output_block_3)\n",
    "\n",
    "# FINAL\n",
    "\n",
    "gap_layer = keras.layers.GlobalAveragePooling1D()(output_block_3)\n",
    "\n",
    "output_layer = keras.layers.Dense(n_outputs, activation='softmax')(gap_layer)\n",
    "\n",
    "model_resnet = keras.models.Model(inputs=input_layer, outputs=output_layer)\n",
    "\n",
    "model_resnet.compile(loss='categorical_crossentropy', optimizer=keras.optimizers.Adam(),\n",
    "              metrics=['acc'])"
   ]
  },
  {
   "cell_type": "code",
   "execution_count": 35,
   "metadata": {},
   "outputs": [
    {
     "name": "stdout",
     "output_type": "stream",
     "text": [
      "Train on 6520 samples, validate on 810 samples\n",
      "Epoch 1/1000\n",
      "6520/6520 [==============================] - 6s 904us/step - loss: 0.3951 - acc: 0.8698 - val_loss: 0.3327 - val_acc: 0.8914\n",
      "\n",
      "Epoch 00001: val_acc improved from -inf to 0.89136, saving model to .\\data\\data\\best_model_resnet_80.h5\n",
      "Epoch 2/1000\n",
      "6520/6520 [==============================] - 3s 502us/step - loss: 0.2990 - acc: 0.8971 - val_loss: 0.3331 - val_acc: 0.8938\n",
      "\n",
      "Epoch 00002: val_acc improved from 0.89136 to 0.89383, saving model to .\\data\\data\\best_model_resnet_80.h5\n",
      "Epoch 3/1000\n",
      "6520/6520 [==============================] - 3s 495us/step - loss: 0.2758 - acc: 0.9072 - val_loss: 0.2627 - val_acc: 0.9074\n",
      "\n",
      "Epoch 00003: val_acc improved from 0.89383 to 0.90741, saving model to .\\data\\data\\best_model_resnet_80.h5\n",
      "Epoch 4/1000\n",
      "6520/6520 [==============================] - 3s 495us/step - loss: 0.2600 - acc: 0.9135 - val_loss: 0.2581 - val_acc: 0.9062\n",
      "\n",
      "Epoch 00004: val_acc did not improve from 0.90741\n",
      "Epoch 5/1000\n",
      "6520/6520 [==============================] - 3s 493us/step - loss: 0.2456 - acc: 0.9153 - val_loss: 0.2303 - val_acc: 0.9333\n",
      "\n",
      "Epoch 00005: val_acc improved from 0.90741 to 0.93333, saving model to .\\data\\data\\best_model_resnet_80.h5\n",
      "Epoch 6/1000\n",
      "6520/6520 [==============================] - 3s 490us/step - loss: 0.2473 - acc: 0.9163 - val_loss: 0.2145 - val_acc: 0.9284\n",
      "\n",
      "Epoch 00006: val_acc did not improve from 0.93333\n",
      "Epoch 7/1000\n",
      "6520/6520 [==============================] - 3s 491us/step - loss: 0.2289 - acc: 0.9186 - val_loss: 0.2472 - val_acc: 0.9049\n",
      "\n",
      "Epoch 00007: val_acc did not improve from 0.93333\n",
      "Epoch 8/1000\n",
      "6520/6520 [==============================] - 3s 490us/step - loss: 0.2302 - acc: 0.9206 - val_loss: 0.2702 - val_acc: 0.9235\n",
      "\n",
      "Epoch 00008: val_acc did not improve from 0.93333\n",
      "Epoch 9/1000\n",
      "6520/6520 [==============================] - 3s 490us/step - loss: 0.2304 - acc: 0.9190 - val_loss: 0.2093 - val_acc: 0.9247\n",
      "\n",
      "Epoch 00009: val_acc did not improve from 0.93333\n",
      "Epoch 10/1000\n",
      "6520/6520 [==============================] - 3s 492us/step - loss: 0.2070 - acc: 0.9267 - val_loss: 0.1937 - val_acc: 0.9284\n",
      "\n",
      "Epoch 00010: val_acc did not improve from 0.93333\n",
      "Epoch 11/1000\n",
      "6520/6520 [==============================] - 3s 492us/step - loss: 0.2060 - acc: 0.9290 - val_loss: 0.2232 - val_acc: 0.9284\n",
      "\n",
      "Epoch 00011: val_acc did not improve from 0.93333\n",
      "Epoch 12/1000\n",
      "6520/6520 [==============================] - 3s 490us/step - loss: 0.1984 - acc: 0.9302 - val_loss: 0.1933 - val_acc: 0.9432\n",
      "\n",
      "Epoch 00012: val_acc improved from 0.93333 to 0.94321, saving model to .\\data\\data\\best_model_resnet_80.h5\n",
      "Epoch 13/1000\n",
      "6520/6520 [==============================] - 3s 495us/step - loss: 0.1946 - acc: 0.9324 - val_loss: 0.2050 - val_acc: 0.9272\n",
      "\n",
      "Epoch 00013: val_acc did not improve from 0.94321\n",
      "Epoch 14/1000\n",
      "6520/6520 [==============================] - 3s 493us/step - loss: 0.1903 - acc: 0.9305 - val_loss: 0.1974 - val_acc: 0.9272\n",
      "\n",
      "Epoch 00014: val_acc did not improve from 0.94321\n",
      "Epoch 15/1000\n",
      "6520/6520 [==============================] - 3s 495us/step - loss: 0.1813 - acc: 0.9348 - val_loss: 0.1775 - val_acc: 0.9370\n",
      "\n",
      "Epoch 00015: val_acc did not improve from 0.94321\n",
      "Epoch 16/1000\n",
      "6520/6520 [==============================] - 3s 490us/step - loss: 0.1862 - acc: 0.9324 - val_loss: 0.1825 - val_acc: 0.9370\n",
      "\n",
      "Epoch 00016: val_acc did not improve from 0.94321\n",
      "Epoch 17/1000\n",
      "6520/6520 [==============================] - 3s 490us/step - loss: 0.1777 - acc: 0.9362 - val_loss: 0.1726 - val_acc: 0.9432\n",
      "\n",
      "Epoch 00017: val_acc did not improve from 0.94321\n",
      "Epoch 18/1000\n",
      "6520/6520 [==============================] - 3s 495us/step - loss: 0.1630 - acc: 0.9416 - val_loss: 0.1888 - val_acc: 0.9432\n",
      "\n",
      "Epoch 00018: val_acc did not improve from 0.94321\n",
      "Epoch 19/1000\n",
      "6520/6520 [==============================] - 3s 500us/step - loss: 0.1540 - acc: 0.9451 - val_loss: 0.1811 - val_acc: 0.9309\n",
      "\n",
      "Epoch 00019: val_acc did not improve from 0.94321\n",
      "Epoch 20/1000\n",
      "6520/6520 [==============================] - 3s 488us/step - loss: 0.1524 - acc: 0.9466 - val_loss: 0.1861 - val_acc: 0.9395\n",
      "\n",
      "Epoch 00020: val_acc did not improve from 0.94321\n",
      "Epoch 21/1000\n",
      "6520/6520 [==============================] - 3s 489us/step - loss: 0.1480 - acc: 0.9466 - val_loss: 0.2240 - val_acc: 0.9111\n",
      "\n",
      "Epoch 00021: val_acc did not improve from 0.94321\n",
      "Epoch 22/1000\n",
      "6520/6520 [==============================] - 3s 489us/step - loss: 0.1418 - acc: 0.9479 - val_loss: 0.1684 - val_acc: 0.9395\n",
      "\n",
      "Epoch 00022: val_acc did not improve from 0.94321\n",
      "Epoch 23/1000\n",
      "6520/6520 [==============================] - 3s 496us/step - loss: 0.1322 - acc: 0.9518 - val_loss: 0.1669 - val_acc: 0.9407\n",
      "\n",
      "Epoch 00023: val_acc did not improve from 0.94321\n",
      "Epoch 24/1000\n",
      "6520/6520 [==============================] - 3s 497us/step - loss: 0.1394 - acc: 0.9483 - val_loss: 0.1507 - val_acc: 0.9481\n",
      "\n",
      "Epoch 00024: val_acc improved from 0.94321 to 0.94815, saving model to .\\data\\data\\best_model_resnet_80.h5\n",
      "Epoch 25/1000\n",
      "6520/6520 [==============================] - 3s 496us/step - loss: 0.1332 - acc: 0.9518 - val_loss: 0.1613 - val_acc: 0.9531\n",
      "\n",
      "Epoch 00025: val_acc improved from 0.94815 to 0.95309, saving model to .\\data\\data\\best_model_resnet_80.h5\n",
      "Epoch 26/1000\n",
      "6520/6520 [==============================] - 3s 498us/step - loss: 0.1261 - acc: 0.9526 - val_loss: 0.1448 - val_acc: 0.9494\n",
      "\n",
      "Epoch 00026: val_acc did not improve from 0.95309\n",
      "Epoch 27/1000\n",
      "6520/6520 [==============================] - 3s 499us/step - loss: 0.1199 - acc: 0.9566 - val_loss: 0.1404 - val_acc: 0.9556\n",
      "\n",
      "Epoch 00027: val_acc improved from 0.95309 to 0.95556, saving model to .\\data\\data\\best_model_resnet_80.h5\n",
      "Epoch 28/1000\n",
      "6520/6520 [==============================] - 3s 498us/step - loss: 0.1259 - acc: 0.9541 - val_loss: 0.1535 - val_acc: 0.9494\n",
      "\n",
      "Epoch 00028: val_acc did not improve from 0.95556\n",
      "Epoch 29/1000\n",
      "6520/6520 [==============================] - 3s 496us/step - loss: 0.1203 - acc: 0.9564 - val_loss: 0.1794 - val_acc: 0.9370\n",
      "\n",
      "Epoch 00029: val_acc did not improve from 0.95556\n",
      "Epoch 30/1000\n",
      "6520/6520 [==============================] - 3s 499us/step - loss: 0.1106 - acc: 0.9586 - val_loss: 0.1316 - val_acc: 0.9494\n",
      "\n",
      "Epoch 00030: val_acc did not improve from 0.95556\n",
      "Epoch 31/1000\n",
      "6520/6520 [==============================] - 3s 499us/step - loss: 0.1108 - acc: 0.9607 - val_loss: 0.1620 - val_acc: 0.9432\n",
      "\n",
      "Epoch 00031: val_acc did not improve from 0.95556\n",
      "Epoch 32/1000\n",
      "6520/6520 [==============================] - 3s 497us/step - loss: 0.1087 - acc: 0.9600 - val_loss: 0.1563 - val_acc: 0.9432\n",
      "\n",
      "Epoch 00032: val_acc did not improve from 0.95556\n",
      "Epoch 33/1000\n",
      "6520/6520 [==============================] - 3s 497us/step - loss: 0.1153 - acc: 0.9583 - val_loss: 0.1758 - val_acc: 0.9420\n",
      "\n",
      "Epoch 00033: val_acc did not improve from 0.95556\n",
      "Epoch 34/1000\n",
      "6520/6520 [==============================] - 3s 499us/step - loss: 0.1169 - acc: 0.9571 - val_loss: 0.1457 - val_acc: 0.9568\n",
      "\n",
      "Epoch 00034: val_acc improved from 0.95556 to 0.95679, saving model to .\\data\\data\\best_model_resnet_80.h5\n",
      "Epoch 35/1000\n",
      "6520/6520 [==============================] - 3s 498us/step - loss: 0.1055 - acc: 0.9609 - val_loss: 0.1846 - val_acc: 0.9457\n",
      "\n",
      "Epoch 00035: val_acc did not improve from 0.95679\n",
      "Epoch 36/1000\n",
      "6520/6520 [==============================] - 3s 496us/step - loss: 0.1015 - acc: 0.9633 - val_loss: 0.1436 - val_acc: 0.9531\n",
      "\n",
      "Epoch 00036: val_acc did not improve from 0.95679\n",
      "Epoch 37/1000\n",
      "6520/6520 [==============================] - 3s 496us/step - loss: 0.1084 - acc: 0.9590 - val_loss: 0.1479 - val_acc: 0.9543\n",
      "\n",
      "Epoch 00037: val_acc did not improve from 0.95679\n",
      "Epoch 38/1000\n",
      "6520/6520 [==============================] - 3s 498us/step - loss: 0.1054 - acc: 0.9624 - val_loss: 0.1463 - val_acc: 0.9519 - acc\n",
      "\n",
      "Epoch 00038: val_acc did not improve from 0.95679\n",
      "Epoch 39/1000\n",
      "6520/6520 [==============================] - 3s 496us/step - loss: 0.1068 - acc: 0.9592 - val_loss: 0.1541 - val_acc: 0.9444\n",
      "\n",
      "Epoch 00039: val_acc did not improve from 0.95679\n",
      "Epoch 40/1000\n",
      "6520/6520 [==============================] - 3s 500us/step - loss: 0.1080 - acc: 0.9589 - val_loss: 0.1449 - val_acc: 0.9506\n",
      "\n",
      "Epoch 00040: val_acc did not improve from 0.95679\n",
      "Epoch 41/1000\n"
     ]
    },
    {
     "name": "stdout",
     "output_type": "stream",
     "text": [
      "6520/6520 [==============================] - 3s 497us/step - loss: 0.1012 - acc: 0.9627 - val_loss: 0.1599 - val_acc: 0.9481\n",
      "\n",
      "Epoch 00041: val_acc did not improve from 0.95679\n",
      "Epoch 42/1000\n",
      "6520/6520 [==============================] - 3s 497us/step - loss: 0.0955 - acc: 0.9640 - val_loss: 0.1642 - val_acc: 0.9432\n",
      "\n",
      "Epoch 00042: val_acc did not improve from 0.95679\n",
      "Epoch 43/1000\n",
      "6520/6520 [==============================] - 3s 501us/step - loss: 0.0895 - acc: 0.9656 - val_loss: 0.1616 - val_acc: 0.9494\n",
      "\n",
      "Epoch 00043: val_acc did not improve from 0.95679\n",
      "Epoch 44/1000\n",
      "6520/6520 [==============================] - 3s 495us/step - loss: 0.0986 - acc: 0.9637 - val_loss: 0.1458 - val_acc: 0.9519\n",
      "\n",
      "Epoch 00044: val_acc did not improve from 0.95679\n",
      "Epoch 45/1000\n",
      "6520/6520 [==============================] - 3s 500us/step - loss: 0.0917 - acc: 0.9664 - val_loss: 0.1444 - val_acc: 0.9531\n",
      "\n",
      "Epoch 00045: val_acc did not improve from 0.95679\n",
      "Epoch 46/1000\n",
      "6520/6520 [==============================] - 3s 499us/step - loss: 0.0909 - acc: 0.9637 - val_loss: 0.1495 - val_acc: 0.9407\n",
      "\n",
      "Epoch 00046: val_acc did not improve from 0.95679\n",
      "Epoch 47/1000\n",
      "6520/6520 [==============================] - 3s 498us/step - loss: 0.0895 - acc: 0.9653 - val_loss: 0.1335 - val_acc: 0.9494\n",
      "\n",
      "Epoch 00047: val_acc did not improve from 0.95679\n",
      "Epoch 48/1000\n",
      "6520/6520 [==============================] - 3s 492us/step - loss: 0.0938 - acc: 0.9650 - val_loss: 0.1502 - val_acc: 0.9506\n",
      "\n",
      "Epoch 00048: val_acc did not improve from 0.95679\n",
      "Epoch 49/1000\n",
      "6520/6520 [==============================] - 3s 493us/step - loss: 0.0863 - acc: 0.9686 - val_loss: 0.1479 - val_acc: 0.9481\n",
      "\n",
      "Epoch 00049: val_acc did not improve from 0.95679\n",
      "Epoch 50/1000\n",
      "6520/6520 [==============================] - 3s 495us/step - loss: 0.0910 - acc: 0.9686 - val_loss: 0.1510 - val_acc: 0.9506\n",
      "\n",
      "Epoch 00050: val_acc did not improve from 0.95679\n",
      "Epoch 51/1000\n",
      "6520/6520 [==============================] - 3s 499us/step - loss: 0.0877 - acc: 0.9663 - val_loss: 0.1741 - val_acc: 0.9543\n",
      "\n",
      "Epoch 00051: val_acc did not improve from 0.95679\n",
      "Epoch 52/1000\n",
      "6520/6520 [==============================] - 3s 498us/step - loss: 0.0768 - acc: 0.9710 - val_loss: 0.1358 - val_acc: 0.9568\n",
      "\n",
      "Epoch 00052: val_acc did not improve from 0.95679\n",
      "Epoch 53/1000\n",
      "6520/6520 [==============================] - 3s 497us/step - loss: 0.0760 - acc: 0.9727 - val_loss: 0.1592 - val_acc: 0.9506\n",
      "\n",
      "Epoch 00053: val_acc did not improve from 0.95679\n",
      "Epoch 54/1000\n",
      "6520/6520 [==============================] - 3s 495us/step - loss: 0.0874 - acc: 0.9667 - val_loss: 0.1491 - val_acc: 0.9543\n",
      "\n",
      "Epoch 00054: val_acc did not improve from 0.95679\n",
      "Epoch 55/1000\n",
      "6520/6520 [==============================] - 3s 495us/step - loss: 0.0783 - acc: 0.9686 - val_loss: 0.1296 - val_acc: 0.9593\n",
      "\n",
      "Epoch 00055: val_acc improved from 0.95679 to 0.95926, saving model to .\\data\\data\\best_model_resnet_80.h5\n",
      "Epoch 56/1000\n",
      "6520/6520 [==============================] - 3s 498us/step - loss: 0.0814 - acc: 0.9704 - val_loss: 0.1388 - val_acc: 0.9543\n",
      "\n",
      "Epoch 00056: val_acc did not improve from 0.95926\n",
      "Epoch 57/1000\n",
      "6520/6520 [==============================] - 3s 495us/step - loss: 0.0785 - acc: 0.9698 - val_loss: 0.1646 - val_acc: 0.9481oss\n",
      "\n",
      "Epoch 00057: val_acc did not improve from 0.95926\n",
      "Epoch 58/1000\n",
      "6520/6520 [==============================] - 3s 497us/step - loss: 0.0731 - acc: 0.9719 - val_loss: 0.1349 - val_acc: 0.9531\n",
      "\n",
      "Epoch 00058: val_acc did not improve from 0.95926\n",
      "Epoch 59/1000\n",
      "6520/6520 [==============================] - 3s 492us/step - loss: 0.0693 - acc: 0.9739 - val_loss: 0.1574 - val_acc: 0.9543\n",
      "\n",
      "Epoch 00059: val_acc did not improve from 0.95926\n",
      "Epoch 60/1000\n",
      "6520/6520 [==============================] - 3s 494us/step - loss: 0.0743 - acc: 0.9741 - val_loss: 0.1537 - val_acc: 0.9531\n",
      "\n",
      "Epoch 00060: val_acc did not improve from 0.95926\n",
      "Epoch 61/1000\n",
      "6520/6520 [==============================] - 3s 494us/step - loss: 0.0667 - acc: 0.9758 - val_loss: 0.1336 - val_acc: 0.9556\n",
      "\n",
      "Epoch 00061: val_acc did not improve from 0.95926\n",
      "Epoch 62/1000\n",
      "6520/6520 [==============================] - 3s 491us/step - loss: 0.0676 - acc: 0.9735 - val_loss: 0.2028 - val_acc: 0.9506\n",
      "\n",
      "Epoch 00062: val_acc did not improve from 0.95926\n",
      "Epoch 63/1000\n",
      "6520/6520 [==============================] - 3s 493us/step - loss: 0.0761 - acc: 0.9742 - val_loss: 0.1431 - val_acc: 0.9605\n",
      "\n",
      "Epoch 00063: val_acc improved from 0.95926 to 0.96049, saving model to .\\data\\data\\best_model_resnet_80.h5\n",
      "Epoch 64/1000\n",
      "6520/6520 [==============================] - 3s 496us/step - loss: 0.0606 - acc: 0.9778 - val_loss: 0.1369 - val_acc: 0.9593\n",
      "\n",
      "Epoch 00064: val_acc did not improve from 0.96049\n",
      "Epoch 65/1000\n",
      "6520/6520 [==============================] - 3s 496us/step - loss: 0.0635 - acc: 0.9765 - val_loss: 0.1582 - val_acc: 0.9543\n",
      "\n",
      "Epoch 00065: val_acc did not improve from 0.96049\n",
      "Epoch 66/1000\n",
      "6520/6520 [==============================] - 3s 492us/step - loss: 0.0561 - acc: 0.9802 - val_loss: 0.1798 - val_acc: 0.9457\n",
      "\n",
      "Epoch 00066: val_acc did not improve from 0.96049\n",
      "Epoch 67/1000\n",
      "6520/6520 [==============================] - 3s 497us/step - loss: 0.0611 - acc: 0.9773 - val_loss: 0.1607 - val_acc: 0.9556\n",
      "\n",
      "Epoch 00067: val_acc did not improve from 0.96049\n",
      "Epoch 68/1000\n",
      "6520/6520 [==============================] - 3s 494us/step - loss: 0.0717 - acc: 0.9744 - val_loss: 0.1552 - val_acc: 0.9580\n",
      "\n",
      "Epoch 00068: val_acc did not improve from 0.96049\n",
      "Epoch 69/1000\n",
      "6520/6520 [==============================] - 3s 498us/step - loss: 0.0695 - acc: 0.9747 - val_loss: 1.0473 - val_acc: 0.8309\n",
      "\n",
      "Epoch 00069: val_acc did not improve from 0.96049\n",
      "Epoch 70/1000\n",
      "6520/6520 [==============================] - 3s 496us/step - loss: 0.0673 - acc: 0.9741 - val_loss: 0.1426 - val_acc: 0.9580\n",
      "\n",
      "Epoch 00070: val_acc did not improve from 0.96049\n",
      "Epoch 71/1000\n",
      "6520/6520 [==============================] - 3s 493us/step - loss: 0.0514 - acc: 0.9805 - val_loss: 0.1692 - val_acc: 0.9481\n",
      "\n",
      "Epoch 00071: val_acc did not improve from 0.96049\n",
      "Epoch 72/1000\n",
      "6520/6520 [==============================] - 3s 498us/step - loss: 0.0578 - acc: 0.9794 - val_loss: 0.1573 - val_acc: 0.9543\n",
      "\n",
      "Epoch 00072: val_acc did not improve from 0.96049\n",
      "Epoch 73/1000\n",
      "6520/6520 [==============================] - 3s 500us/step - loss: 0.0588 - acc: 0.9778 - val_loss: 0.1593 - val_acc: 0.9568\n",
      "\n",
      "Epoch 00073: val_acc did not improve from 0.96049\n",
      "Epoch 74/1000\n",
      "6520/6520 [==============================] - 3s 495us/step - loss: 0.0692 - acc: 0.9752 - val_loss: 0.1334 - val_acc: 0.9605\n",
      "\n",
      "Epoch 00074: val_acc did not improve from 0.96049\n",
      "Epoch 75/1000\n",
      "6520/6520 [==============================] - 3s 498us/step - loss: 0.0553 - acc: 0.9799 - val_loss: 0.1766 - val_acc: 0.9568\n",
      "\n",
      "Epoch 00075: val_acc did not improve from 0.96049\n",
      "Epoch 76/1000\n",
      "6520/6520 [==============================] - 3s 495us/step - loss: 0.0642 - acc: 0.9761 - val_loss: 0.1715 - val_acc: 0.9506\n",
      "\n",
      "Epoch 00076: val_acc did not improve from 0.96049\n",
      "Epoch 77/1000\n",
      "6520/6520 [==============================] - 3s 499us/step - loss: 0.0511 - acc: 0.9813 - val_loss: 0.1712 - val_acc: 0.9531\n",
      "\n",
      "Epoch 00077: val_acc did not improve from 0.96049\n",
      "Epoch 78/1000\n",
      "6520/6520 [==============================] - 3s 498us/step - loss: 0.0531 - acc: 0.9778 - val_loss: 0.1540 - val_acc: 0.9556\n",
      "\n",
      "Epoch 00078: val_acc did not improve from 0.96049\n",
      "Epoch 79/1000\n",
      "6520/6520 [==============================] - 3s 498us/step - loss: 0.0651 - acc: 0.9767 - val_loss: 0.1562 - val_acc: 0.9568\n",
      "\n",
      "Epoch 00079: val_acc did not improve from 0.96049\n",
      "Epoch 80/1000\n",
      "6520/6520 [==============================] - 3s 500us/step - loss: 0.0528 - acc: 0.9801 - val_loss: 0.1304 - val_acc: 0.9593\n",
      "\n",
      "Epoch 00080: val_acc did not improve from 0.96049\n",
      "Epoch 81/1000\n",
      "6520/6520 [==============================] - 3s 499us/step - loss: 0.0481 - acc: 0.9828 - val_loss: 0.1487 - val_acc: 0.9580\n",
      "\n",
      "Epoch 00081: val_acc did not improve from 0.96049\n",
      "Epoch 82/1000\n",
      "6520/6520 [==============================] - 3s 504us/step - loss: 0.0444 - acc: 0.9836 - val_loss: 0.1507 - val_acc: 0.9556\n",
      "\n",
      "Epoch 00082: val_acc did not improve from 0.96049\n",
      "Epoch 83/1000\n"
     ]
    },
    {
     "name": "stdout",
     "output_type": "stream",
     "text": [
      "6520/6520 [==============================] - 3s 497us/step - loss: 0.0402 - acc: 0.9842 - val_loss: 0.1539 - val_acc: 0.9506\n",
      "\n",
      "Epoch 00083: val_acc did not improve from 0.96049\n",
      "Epoch 84/1000\n",
      "6520/6520 [==============================] - 3s 497us/step - loss: 0.0557 - acc: 0.9813 - val_loss: 0.1739 - val_acc: 0.9556\n",
      "\n",
      "Epoch 00084: val_acc did not improve from 0.96049\n",
      "Epoch 85/1000\n",
      "6520/6520 [==============================] - 3s 502us/step - loss: 0.0470 - acc: 0.9839 - val_loss: 0.1684 - val_acc: 0.9580\n",
      "\n",
      "Epoch 00085: val_acc did not improve from 0.96049\n",
      "Epoch 86/1000\n",
      "6520/6520 [==============================] - 3s 497us/step - loss: 0.0466 - acc: 0.9833 - val_loss: 0.1588 - val_acc: 0.9617\n",
      "\n",
      "Epoch 00086: val_acc improved from 0.96049 to 0.96173, saving model to .\\data\\data\\best_model_resnet_80.h5\n",
      "Epoch 87/1000\n",
      "6520/6520 [==============================] - 3s 497us/step - loss: 0.0513 - acc: 0.9813 - val_loss: 0.2068 - val_acc: 0.9543\n",
      "\n",
      "Epoch 00087: val_acc did not improve from 0.96173\n",
      "Epoch 88/1000\n",
      "6520/6520 [==============================] - 3s 495us/step - loss: 0.0556 - acc: 0.9794 - val_loss: 0.1779 - val_acc: 0.9580\n",
      "\n",
      "Epoch 00088: val_acc did not improve from 0.96173\n",
      "Epoch 89/1000\n",
      "6520/6520 [==============================] - 3s 493us/step - loss: 0.0406 - acc: 0.9854 - val_loss: 0.1547 - val_acc: 0.9593\n",
      "\n",
      "Epoch 00089: val_acc did not improve from 0.96173\n",
      "Epoch 90/1000\n",
      "6520/6520 [==============================] - 3s 495us/step - loss: 0.0458 - acc: 0.9830 - val_loss: 0.1844 - val_acc: 0.9506\n",
      "\n",
      "Epoch 00090: val_acc did not improve from 0.96173\n",
      "Epoch 91/1000\n",
      "6520/6520 [==============================] - 3s 499us/step - loss: 0.0432 - acc: 0.9824 - val_loss: 0.1712 - val_acc: 0.9580\n",
      "\n",
      "Epoch 00091: val_acc did not improve from 0.96173\n",
      "Epoch 92/1000\n",
      "6520/6520 [==============================] - 3s 502us/step - loss: 0.0351 - acc: 0.9867 - val_loss: 0.1312 - val_acc: 0.9679\n",
      "\n",
      "Epoch 00092: val_acc improved from 0.96173 to 0.96790, saving model to .\\data\\data\\best_model_resnet_80.h5\n",
      "Epoch 93/1000\n",
      "6520/6520 [==============================] - 3s 505us/step - loss: 0.0406 - acc: 0.9848 - val_loss: 0.1677 - val_acc: 0.9556\n",
      "\n",
      "Epoch 00093: val_acc did not improve from 0.96790\n",
      "Epoch 94/1000\n",
      "6520/6520 [==============================] - 3s 501us/step - loss: 0.0515 - acc: 0.9804 - val_loss: 0.1623 - val_acc: 0.9580\n",
      "\n",
      "Epoch 00094: val_acc did not improve from 0.96790\n",
      "Epoch 95/1000\n",
      "6520/6520 [==============================] - 3s 496us/step - loss: 0.0329 - acc: 0.9877 - val_loss: 0.1240 - val_acc: 0.9679\n",
      "\n",
      "Epoch 00095: val_acc did not improve from 0.96790\n",
      "Epoch 96/1000\n",
      "6520/6520 [==============================] - 3s 498us/step - loss: 0.0418 - acc: 0.9837 - val_loss: 0.1584 - val_acc: 0.9580\n",
      "\n",
      "Epoch 00096: val_acc did not improve from 0.96790\n",
      "Epoch 97/1000\n",
      "6520/6520 [==============================] - 3s 497us/step - loss: 0.0452 - acc: 0.9836 - val_loss: 0.1507 - val_acc: 0.9630\n",
      "\n",
      "Epoch 00097: val_acc did not improve from 0.96790\n",
      "Epoch 98/1000\n",
      "6520/6520 [==============================] - 3s 496us/step - loss: 0.0357 - acc: 0.9857 - val_loss: 0.1426 - val_acc: 0.9593\n",
      "\n",
      "Epoch 00098: val_acc did not improve from 0.96790\n",
      "Epoch 99/1000\n",
      "6520/6520 [==============================] - 3s 498us/step - loss: 0.0371 - acc: 0.9853 - val_loss: 0.1663 - val_acc: 0.9568\n",
      "\n",
      "Epoch 00099: val_acc did not improve from 0.96790\n",
      "Epoch 100/1000\n",
      "6520/6520 [==============================] - 3s 496us/step - loss: 0.0403 - acc: 0.9862 - val_loss: 0.1709 - val_acc: 0.9568\n",
      "\n",
      "Epoch 00100: val_acc did not improve from 0.96790\n",
      "Epoch 101/1000\n",
      "6520/6520 [==============================] - 3s 499us/step - loss: 0.0353 - acc: 0.9862 - val_loss: 0.1773 - val_acc: 0.9617\n",
      "\n",
      "Epoch 00101: val_acc did not improve from 0.96790\n",
      "Epoch 102/1000\n",
      "6520/6520 [==============================] - 3s 496us/step - loss: 0.0393 - acc: 0.9851 - val_loss: 0.1704 - val_acc: 0.9642\n",
      "\n",
      "Epoch 00102: val_acc did not improve from 0.96790\n",
      "Epoch 103/1000\n",
      "6520/6520 [==============================] - 3s 498us/step - loss: 0.0346 - acc: 0.9870 - val_loss: 0.1626 - val_acc: 0.9593\n",
      "\n",
      "Epoch 00103: val_acc did not improve from 0.96790\n",
      "Epoch 104/1000\n",
      "6520/6520 [==============================] - 3s 497us/step - loss: 0.0393 - acc: 0.9847 - val_loss: 0.1869 - val_acc: 0.9654\n",
      "\n",
      "Epoch 00104: val_acc did not improve from 0.96790\n",
      "Epoch 105/1000\n",
      "6520/6520 [==============================] - 3s 495us/step - loss: 0.0380 - acc: 0.9868 - val_loss: 0.1592 - val_acc: 0.9605\n",
      "\n",
      "Epoch 00105: val_acc did not improve from 0.96790\n",
      "Epoch 106/1000\n",
      "6520/6520 [==============================] - 3s 486us/step - loss: 0.0350 - acc: 0.9860 - val_loss: 0.1394 - val_acc: 0.9568\n",
      "\n",
      "Epoch 00106: val_acc did not improve from 0.96790\n",
      "Epoch 107/1000\n",
      "6520/6520 [==============================] - 3s 490us/step - loss: 0.0368 - acc: 0.9863 - val_loss: 0.1874 - val_acc: 0.9531\n",
      "\n",
      "Epoch 00107: val_acc did not improve from 0.96790\n",
      "Epoch 108/1000\n",
      "6520/6520 [==============================] - 3s 485us/step - loss: 0.0408 - acc: 0.9833 - val_loss: 0.1677 - val_acc: 0.9630\n",
      "\n",
      "Epoch 00108: val_acc did not improve from 0.96790\n",
      "Epoch 109/1000\n",
      "6520/6520 [==============================] - 3s 488us/step - loss: 0.0338 - acc: 0.9868 - val_loss: 0.1526 - val_acc: 0.9617\n",
      "\n",
      "Epoch 00109: val_acc did not improve from 0.96790\n",
      "Epoch 110/1000\n",
      "6520/6520 [==============================] - 3s 485us/step - loss: 0.0308 - acc: 0.9891 - val_loss: 0.1467 - val_acc: 0.9654\n",
      "\n",
      "Epoch 00110: val_acc did not improve from 0.96790\n",
      "Epoch 111/1000\n",
      "6520/6520 [==============================] - 3s 493us/step - loss: 0.0479 - acc: 0.9813 - val_loss: 0.1573 - val_acc: 0.9617\n",
      "\n",
      "Epoch 00111: val_acc did not improve from 0.96790\n",
      "Epoch 112/1000\n",
      "6520/6520 [==============================] - 3s 501us/step - loss: 0.0294 - acc: 0.9882 - val_loss: 0.1361 - val_acc: 0.9667\n",
      "\n",
      "Epoch 00112: val_acc did not improve from 0.96790\n",
      "Epoch 113/1000\n",
      "6520/6520 [==============================] - 3s 499us/step - loss: 0.0248 - acc: 0.9897 - val_loss: 0.1589 - val_acc: 0.9617\n",
      "\n",
      "Epoch 00113: val_acc did not improve from 0.96790\n",
      "Epoch 114/1000\n",
      "6520/6520 [==============================] - 3s 504us/step - loss: 0.0271 - acc: 0.9902 - val_loss: 0.1485 - val_acc: 0.9642\n",
      "\n",
      "Epoch 00114: val_acc did not improve from 0.96790\n",
      "Epoch 115/1000\n",
      "6520/6520 [==============================] - 3s 508us/step - loss: 0.0351 - acc: 0.9876 - val_loss: 0.2022 - val_acc: 0.9568\n",
      "\n",
      "Epoch 00115: val_acc did not improve from 0.96790\n",
      "Epoch 116/1000\n",
      "6520/6520 [==============================] - 3s 496us/step - loss: 0.0380 - acc: 0.9862 - val_loss: 0.1757 - val_acc: 0.9543\n",
      "\n",
      "Epoch 00116: val_acc did not improve from 0.96790\n",
      "Epoch 117/1000\n",
      "6520/6520 [==============================] - 3s 503us/step - loss: 0.0307 - acc: 0.9888 - val_loss: 0.1659 - val_acc: 0.9642\n",
      "\n",
      "Epoch 00117: val_acc did not improve from 0.96790\n",
      "Epoch 118/1000\n",
      "6520/6520 [==============================] - 3s 500us/step - loss: 0.0257 - acc: 0.9903 - val_loss: 0.1676 - val_acc: 0.9667\n",
      "\n",
      "Epoch 00118: val_acc did not improve from 0.96790\n",
      "Epoch 119/1000\n",
      "6520/6520 [==============================] - 3s 484us/step - loss: 0.0223 - acc: 0.9913 - val_loss: 0.1537 - val_acc: 0.9667\n",
      "\n",
      "Epoch 00119: val_acc did not improve from 0.96790\n",
      "Epoch 120/1000\n",
      "6520/6520 [==============================] - 3s 495us/step - loss: 0.0281 - acc: 0.9890 - val_loss: 0.1788 - val_acc: 0.9605\n",
      "\n",
      "Epoch 00120: val_acc did not improve from 0.96790\n",
      "Epoch 121/1000\n",
      "6520/6520 [==============================] - 3s 485us/step - loss: 0.0225 - acc: 0.9925 - val_loss: 0.1759 - val_acc: 0.9642\n",
      "\n",
      "Epoch 00121: val_acc did not improve from 0.96790\n",
      "Epoch 122/1000\n",
      "6520/6520 [==============================] - 3s 496us/step - loss: 0.0320 - acc: 0.9883 - val_loss: 0.1791 - val_acc: 0.9580\n",
      "\n",
      "Epoch 00122: val_acc did not improve from 0.96790\n",
      "Epoch 123/1000\n",
      "6520/6520 [==============================] - 3s 488us/step - loss: 0.0468 - acc: 0.9816 - val_loss: 0.1917 - val_acc: 0.9605\n",
      "\n",
      "Epoch 00123: val_acc did not improve from 0.96790\n",
      "Epoch 124/1000\n",
      "6520/6520 [==============================] - 3s 503us/step - loss: 0.0306 - acc: 0.9893 - val_loss: 0.1834 - val_acc: 0.9568\n",
      "\n",
      "Epoch 00124: val_acc did not improve from 0.96790\n",
      "Epoch 125/1000\n"
     ]
    },
    {
     "name": "stdout",
     "output_type": "stream",
     "text": [
      "6520/6520 [==============================] - 3s 500us/step - loss: 0.0268 - acc: 0.9905 - val_loss: 0.1842 - val_acc: 0.9617\n",
      "\n",
      "Epoch 00125: val_acc did not improve from 0.96790\n",
      "Epoch 126/1000\n",
      "6520/6520 [==============================] - 3s 489us/step - loss: 0.0221 - acc: 0.9905 - val_loss: 0.1650 - val_acc: 0.9642\n",
      "\n",
      "Epoch 00126: val_acc did not improve from 0.96790\n",
      "Epoch 127/1000\n",
      "6520/6520 [==============================] - 3s 487us/step - loss: 0.0269 - acc: 0.9888 - val_loss: 0.2143 - val_acc: 0.9630\n",
      "\n",
      "Epoch 00127: val_acc did not improve from 0.96790\n",
      "Epoch 128/1000\n",
      "6520/6520 [==============================] - 3s 486us/step - loss: 0.0258 - acc: 0.9891 - val_loss: 0.2079 - val_acc: 0.9617\n",
      "\n",
      "Epoch 00128: val_acc did not improve from 0.96790\n",
      "Epoch 129/1000\n",
      "6520/6520 [==============================] - 3s 489us/step - loss: 0.0361 - acc: 0.9854 - val_loss: 0.2136 - val_acc: 0.9506\n",
      "\n",
      "Epoch 00129: val_acc did not improve from 0.96790\n",
      "Epoch 130/1000\n",
      "6520/6520 [==============================] - 3s 496us/step - loss: 0.0299 - acc: 0.9890 - val_loss: 0.2188 - val_acc: 0.9605\n",
      "\n",
      "Epoch 00130: val_acc did not improve from 0.96790\n",
      "Epoch 131/1000\n",
      "6520/6520 [==============================] - 3s 493us/step - loss: 0.0280 - acc: 0.9897 - val_loss: 0.2504 - val_acc: 0.9519\n",
      "\n",
      "Epoch 00131: val_acc did not improve from 0.96790\n",
      "Epoch 132/1000\n",
      "6520/6520 [==============================] - 3s 506us/step - loss: 0.0323 - acc: 0.9877 - val_loss: 0.1535 - val_acc: 0.9605\n",
      "\n",
      "Epoch 00132: val_acc did not improve from 0.96790\n",
      "Epoch 133/1000\n",
      "6520/6520 [==============================] - 3s 493us/step - loss: 0.0241 - acc: 0.9911 - val_loss: 0.1822 - val_acc: 0.9630\n",
      "\n",
      "Epoch 00133: val_acc did not improve from 0.96790\n",
      "Epoch 134/1000\n",
      "6520/6520 [==============================] - 3s 493us/step - loss: 0.0293 - acc: 0.9894 - val_loss: 0.1312 - val_acc: 0.9691\n",
      "\n",
      "Epoch 00134: val_acc improved from 0.96790 to 0.96914, saving model to .\\data\\data\\best_model_resnet_80.h5\n",
      "Epoch 135/1000\n",
      "6520/6520 [==============================] - ETA: 0s - loss: 0.0375 - acc: 0.985 - 3s 482us/step - loss: 0.0378 - acc: 0.9854 - val_loss: 0.1711 - val_acc: 0.9580\n",
      "\n",
      "Epoch 00135: val_acc did not improve from 0.96914\n",
      "Epoch 136/1000\n",
      "6520/6520 [==============================] - 3s 479us/step - loss: 0.0296 - acc: 0.9890 - val_loss: 0.1601 - val_acc: 0.9593\n",
      "\n",
      "Epoch 00136: val_acc did not improve from 0.96914\n",
      "Epoch 137/1000\n",
      "6520/6520 [==============================] - 3s 493us/step - loss: 0.0230 - acc: 0.9917 - val_loss: 0.1434 - val_acc: 0.9654\n",
      "\n",
      "Epoch 00137: val_acc did not improve from 0.96914\n",
      "Epoch 138/1000\n",
      "6520/6520 [==============================] - 3s 499us/step - loss: 0.0197 - acc: 0.9928 - val_loss: 0.1698 - val_acc: 0.9728\n",
      "\n",
      "Epoch 00138: val_acc improved from 0.96914 to 0.97284, saving model to .\\data\\data\\best_model_resnet_80.h5\n",
      "Epoch 139/1000\n",
      "6520/6520 [==============================] - 3s 514us/step - loss: 0.0163 - acc: 0.9929 - val_loss: 0.2033 - val_acc: 0.9654\n",
      "\n",
      "Epoch 00139: val_acc did not improve from 0.97284\n",
      "Epoch 140/1000\n",
      "6520/6520 [==============================] - 3s 508us/step - loss: 0.0202 - acc: 0.9913 - val_loss: 0.1769 - val_acc: 0.9654\n",
      "\n",
      "Epoch 00140: val_acc did not improve from 0.97284\n",
      "Epoch 141/1000\n",
      "6520/6520 [==============================] - 3s 510us/step - loss: 0.0228 - acc: 0.9906 - val_loss: 0.1511 - val_acc: 0.9630\n",
      "\n",
      "Epoch 00141: val_acc did not improve from 0.97284\n",
      "Epoch 142/1000\n",
      "6520/6520 [==============================] - 3s 516us/step - loss: 0.0208 - acc: 0.9920 - val_loss: 0.1826 - val_acc: 0.9580\n",
      "\n",
      "Epoch 00142: val_acc did not improve from 0.97284\n",
      "Epoch 143/1000\n",
      "6520/6520 [==============================] - 3s 513us/step - loss: 0.0237 - acc: 0.9906 - val_loss: 0.2120 - val_acc: 0.9580\n",
      "\n",
      "Epoch 00143: val_acc did not improve from 0.97284\n",
      "Epoch 144/1000\n",
      "6520/6520 [==============================] - 3s 514us/step - loss: 0.0268 - acc: 0.9906 - val_loss: 0.2357 - val_acc: 0.9543\n",
      "\n",
      "Epoch 00144: val_acc did not improve from 0.97284\n",
      "Epoch 145/1000\n",
      "6520/6520 [==============================] - 3s 512us/step - loss: 0.0283 - acc: 0.9890 - val_loss: 0.2047 - val_acc: 0.9605\n",
      "\n",
      "Epoch 00145: val_acc did not improve from 0.97284\n",
      "Epoch 00145: early stopping\n"
     ]
    }
   ],
   "source": [
    "es = EarlyStopping(monitor='val_loss', mode='min', verbose=verbose, patience=50)\n",
    "\n",
    "mc = ModelCheckpoint('.\\\\data\\\\data\\\\best_model_resnet_80.h5', monitor='val_acc', mode='max', verbose=verbose,\n",
    "                     save_best_only=True)\n",
    "\n",
    "history_resnet = model_resnet.fit(X_train, y_train, epochs = 1000, \n",
    "          validation_data = (X_val, y_val), \n",
    "          batch_size = batch_size, verbose=verbose,\n",
    "                   callbacks=[es, mc])"
   ]
  },
  {
   "cell_type": "code",
   "execution_count": 36,
   "metadata": {},
   "outputs": [],
   "source": [
    "saved_model_resnet = load_model('.\\\\data\\\\data\\\\best_model_resnet_80.h5')"
   ]
  },
  {
   "cell_type": "code",
   "execution_count": 37,
   "metadata": {
    "colab": {},
    "colab_type": "code",
    "id": "lfYZDbZtQvMS"
   },
   "outputs": [],
   "source": [
    "y_pred_resnet = np.argmax(saved_model_resnet.predict(X_test), axis=1)"
   ]
  },
  {
   "cell_type": "code",
   "execution_count": 38,
   "metadata": {},
   "outputs": [
    {
     "name": "stdout",
     "output_type": "stream",
     "text": [
      "810/810 [==============================] - 0s 382us/sample - loss: 0.1797 - acc: 0.9704\n"
     ]
    },
    {
     "data": {
      "text/plain": [
       "0.97037035"
      ]
     },
     "execution_count": 38,
     "metadata": {},
     "output_type": "execute_result"
    }
   ],
   "source": [
    "_, accuracy_resnet = saved_model_resnet.evaluate(X_test, y_test, batch_size=batch_size, verbose=1)\n",
    "accuracy_resnet"
   ]
  },
  {
   "cell_type": "code",
   "execution_count": 39,
   "metadata": {
    "scrolled": true
   },
   "outputs": [
    {
     "name": "stdout",
     "output_type": "stream",
     "text": [
      "              precision    recall  f1-score   support\n",
      "\n",
      "     cycling     0.9515    0.9691    0.9602       162\n",
      "     driving     0.9329    0.9444    0.9387       162\n",
      "     jogging     1.0000    1.0000    1.0000       162\n",
      "    sleeping     0.9816    0.9877    0.9846       162\n",
      "     walking     0.9872    0.9506    0.9686       162\n",
      "\n",
      "    accuracy                         0.9704       810\n",
      "   macro avg     0.9706    0.9704    0.9704       810\n",
      "weighted avg     0.9706    0.9704    0.9704       810\n",
      "\n"
     ]
    }
   ],
   "source": [
    "print(metrics.classification_report(np.argmax(y_test,axis=1), y_pred_resnet, target_names = activities, digits = 4))"
   ]
  },
  {
   "cell_type": "code",
   "execution_count": 40,
   "metadata": {
    "colab": {},
    "colab_type": "code",
    "id": "tgNuz71ePy_Q"
   },
   "outputs": [],
   "source": [
    "results = open(\"accuracy_resnet80.txt\",\"w\")\n",
    "results.write(str(accuracy_resnet))\n",
    "results.close()"
   ]
  },
  {
   "cell_type": "code",
   "execution_count": null,
   "metadata": {},
   "outputs": [],
   "source": []
  },
  {
   "cell_type": "code",
   "execution_count": 41,
   "metadata": {},
   "outputs": [
    {
     "data": {
      "image/png": "[encoded data removed]",
      "text/plain": [
       "<Figure size 432x288 with 1 Axes>"
      ]
     },
     "metadata": {
      "needs_background": "light"
     },
     "output_type": "display_data"
    },
    {
     "data": {
      "image/png": "[encoded data removed]",
      "text/plain": [
       "<Figure size 432x288 with 1 Axes>"
      ]
     },
     "metadata": {
      "needs_background": "light"
     },
     "output_type": "display_data"
    }
   ],
   "source": [
    "acc = history_resnet.history['acc']\n",
    "\n",
    "val_acc = history_resnet.history['val_acc']\n",
    "loss = history_resnet.history['loss']\n",
    "val_loss = history_resnet.history['val_loss']\n",
    "\n",
    "epochs = range(1, len(acc) + 1)\n",
    "\n",
    "plt.plot(epochs, acc, 'bo', label='Training acc')\n",
    "plt.plot(epochs, val_acc, 'b', label='Validation acc')\n",
    "plt.title('Training and validation accuracy')\n",
    "plt.savefig('resnet80_graph'+str(1)+'.png')\n",
    "plt.legend()\n",
    "\n",
    "plt.figure()\n",
    "\n",
    "plt.plot(epochs, loss, 'bo', label='Training loss')\n",
    "plt.plot(epochs, val_loss, 'b', label='Validation loss')\n",
    "plt.title('Training and validation loss')\n",
    "plt.savefig('resnet80_graph'+str(2)+'.png')\n",
    "plt.legend()\n",
    "\n",
    "plt.show()"
   ]
  },
  {
   "cell_type": "markdown",
   "metadata": {},
   "source": [
    "---"
   ]
  },
  {
   "cell_type": "code",
   "execution_count": null,
   "metadata": {},
   "outputs": [],
   "source": []
  },
  {
   "cell_type": "code",
   "execution_count": null,
   "metadata": {},
   "outputs": [],
   "source": []
  },
  {
   "cell_type": "code",
   "execution_count": null,
   "metadata": {},
   "outputs": [],
   "source": []
  }
 ],
 "metadata": {
  "kernelspec": {
   "display_name": "Python 3",
   "language": "python",
   "name": "python3"
  },
  "language_info": {
   "codemirror_mode": {
    "name": "ipython",
    "version": 3
   },
   "file_extension": ".py",
   "mimetype": "text/x-python",
   "name": "python",
   "nbconvert_exporter": "python",
   "pygments_lexer": "ipython3",
   "version": "3.7.4"
  }
 },
 "nbformat": 4,
 "nbformat_minor": 4
}
